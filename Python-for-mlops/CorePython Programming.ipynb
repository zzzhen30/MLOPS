{
 "cells": [
  {
   "cell_type": "markdown",
   "id": "39fb87c7-a094-4dc2-99ba-da6ac086e6e1",
   "metadata": {},
   "source": [
    "# Variable "
   ]
  },
  {
   "cell_type": "code",
   "execution_count": 1,
   "id": "c95e78f5-0ddc-4ee9-be7f-f111b3e0d071",
   "metadata": {
    "tags": []
   },
   "outputs": [
    {
     "name": "stdout",
     "output_type": "stream",
     "text": [
      "10\n"
     ]
    }
   ],
   "source": [
    "x = 10 # x is variable name\n",
    "# 10 is the literal\n",
    "print(x)"
   ]
  },
  {
   "cell_type": "markdown",
   "id": "20bc5d65-c6a1-44c9-a04d-9bc50dc6c45c",
   "metadata": {},
   "source": [
    "## Comments"
   ]
  },
  {
   "cell_type": "code",
   "execution_count": null,
   "id": "990012c6-d85c-4ee9-9014-28eea7ad314e",
   "metadata": {},
   "outputs": [],
   "source": [
    "# comments are additional information added in the program"
   ]
  },
  {
   "cell_type": "markdown",
   "id": "7f50eb18-f3d5-439d-9490-f7598e4e7eae",
   "metadata": {},
   "source": [
    "# Heading 1\n",
    "## Heading 2\n",
    "### Heading 3\n",
    "#### Heading 4"
   ]
  },
  {
   "cell_type": "markdown",
   "id": "227b67a5-d696-47a4-a82b-b4bb6fd98077",
   "metadata": {},
   "source": [
    "## Keyboard Shortcuts:\n",
    "\n",
    "Command mode shortcuts\n",
    "- b --> add a cell below the current cell\n",
    "- a --> add a cell above the current cell\n",
    "- dd --> delete the current cell"
   ]
  },
  {
   "cell_type": "markdown",
   "id": "46dc6b5e-caa9-435d-8c6d-691800d57949",
   "metadata": {},
   "source": [
    "# Rules for Creation of Variables"
   ]
  },
  {
   "cell_type": "markdown",
   "id": "878f76f9-3bda-47e7-aaf3-2c250693cb83",
   "metadata": {},
   "source": [
    "- Variable name Should start with letter or an underscore\n",
    "- Variable Name can be alphanumeric\n",
    "- Variable names are case sensitive\n",
    "- Variable name should not be a reserved word (keyword)\n"
   ]
  },
  {
   "cell_type": "code",
   "execution_count": null,
   "id": "0f24a19e-2c1a-42e7-9d33-e41f3494dcb7",
   "metadata": {},
   "outputs": [],
   "source": [
    "# valid\n",
    "x\n",
    "_x\n",
    "_123\n",
    "X_12312\n",
    "_xyz\n",
    "xyz2312"
   ]
  },
  {
   "cell_type": "code",
   "execution_count": 1,
   "id": "1a9f80ab-cfac-4bdb-af9e-b010582f991a",
   "metadata": {
    "tags": []
   },
   "outputs": [
    {
     "ename": "SyntaxError",
     "evalue": "invalid decimal literal (975949321.py, line 1)",
     "output_type": "error",
     "traceback": [
      "\u001b[0;36m  Cell \u001b[0;32mIn[1], line 1\u001b[0;36m\u001b[0m\n\u001b[0;31m    1x = 20\u001b[0m\n\u001b[0m    ^\u001b[0m\n\u001b[0;31mSyntaxError\u001b[0m\u001b[0;31m:\u001b[0m invalid decimal literal\n"
     ]
    }
   ],
   "source": [
    "1x = 20"
   ]
  },
  {
   "cell_type": "code",
   "execution_count": 2,
   "id": "0e0771ef-704c-4c61-b0a6-db015abbfbd1",
   "metadata": {
    "tags": []
   },
   "outputs": [
    {
     "name": "stdout",
     "output_type": "stream",
     "text": [
      "100\n",
      "150\n"
     ]
    }
   ],
   "source": [
    "x = 100\n",
    "X = 150\n",
    "print(x)\n",
    "print(X)"
   ]
  },
  {
   "cell_type": "markdown",
   "id": "4ee9d24f-3444-4848-96fd-63a1f3059b52",
   "metadata": {
    "tags": []
   },
   "source": [
    "# Keywords\n",
    "predefined meaning"
   ]
  },
  {
   "cell_type": "code",
   "execution_count": 3,
   "id": "0d578fed-2056-4d1b-baae-b8803393c336",
   "metadata": {
    "tags": []
   },
   "outputs": [
    {
     "data": {
      "text/plain": [
       "['False',\n",
       " 'None',\n",
       " 'True',\n",
       " 'and',\n",
       " 'as',\n",
       " 'assert',\n",
       " 'async',\n",
       " 'await',\n",
       " 'break',\n",
       " 'class',\n",
       " 'continue',\n",
       " 'def',\n",
       " 'del',\n",
       " 'elif',\n",
       " 'else',\n",
       " 'except',\n",
       " 'finally',\n",
       " 'for',\n",
       " 'from',\n",
       " 'global',\n",
       " 'if',\n",
       " 'import',\n",
       " 'in',\n",
       " 'is',\n",
       " 'lambda',\n",
       " 'nonlocal',\n",
       " 'not',\n",
       " 'or',\n",
       " 'pass',\n",
       " 'raise',\n",
       " 'return',\n",
       " 'try',\n",
       " 'while',\n",
       " 'with',\n",
       " 'yield']"
      ]
     },
     "execution_count": 3,
     "metadata": {},
     "output_type": "execute_result"
    }
   ],
   "source": [
    "import keyword\n",
    "keyword.kwlist"
   ]
  },
  {
   "cell_type": "code",
   "execution_count": 4,
   "id": "7329df01-71e2-4deb-815f-b2732c1e69ca",
   "metadata": {
    "tags": []
   },
   "outputs": [
    {
     "ename": "SyntaxError",
     "evalue": "invalid syntax (479645802.py, line 1)",
     "output_type": "error",
     "traceback": [
      "\u001b[0;36m  Cell \u001b[0;32mIn[4], line 1\u001b[0;36m\u001b[0m\n\u001b[0;31m    class = 100\u001b[0m\n\u001b[0m          ^\u001b[0m\n\u001b[0;31mSyntaxError\u001b[0m\u001b[0;31m:\u001b[0m invalid syntax\n"
     ]
    }
   ],
   "source": [
    "class = 100"
   ]
  },
  {
   "cell_type": "markdown",
   "id": "ecbaba64-4b3e-4df5-8c58-2592a4abaa6c",
   "metadata": {},
   "source": [
    "# Literals\n",
    "- \" Literals are values used in Python. \"\n",
    "- Types are: Numeric, Boolean, Collection, String, Special\n"
   ]
  },
  {
   "cell_type": "markdown",
   "id": "14bfc7ae-7a32-4ced-8494-32b188c92858",
   "metadata": {},
   "source": [
    "### Numeric"
   ]
  },
  {
   "cell_type": "code",
   "execution_count": 5,
   "id": "7bbd3ee3-9cef-4987-8787-7b61af4b143f",
   "metadata": {
    "tags": []
   },
   "outputs": [],
   "source": [
    "# numeric\n",
    "# integer, float, complex\n",
    "x = 0\n",
    "y = -20\n",
    "z = 500"
   ]
  },
  {
   "cell_type": "code",
   "execution_count": 6,
   "id": "d466ccbf-2de0-4bba-a990-88c37b6fc4e7",
   "metadata": {
    "tags": []
   },
   "outputs": [
    {
     "name": "stdout",
     "output_type": "stream",
     "text": [
      "<class 'int'>\n"
     ]
    }
   ],
   "source": [
    "print(type(x))"
   ]
  },
  {
   "cell_type": "code",
   "execution_count": 7,
   "id": "1a3d34b2-1aab-47de-8873-1de1862682c7",
   "metadata": {
    "tags": []
   },
   "outputs": [
    {
     "name": "stdout",
     "output_type": "stream",
     "text": [
      "<class 'int'>\n"
     ]
    }
   ],
   "source": [
    "print(type(y))"
   ]
  },
  {
   "cell_type": "code",
   "execution_count": 8,
   "id": "85f06499-5a57-446d-be1d-f90a018cea96",
   "metadata": {
    "tags": []
   },
   "outputs": [
    {
     "name": "stdout",
     "output_type": "stream",
     "text": [
      "<class 'int'>\n"
     ]
    }
   ],
   "source": [
    "print(type(z))"
   ]
  },
  {
   "cell_type": "code",
   "execution_count": 9,
   "id": "db81a179-3dd2-447a-8c46-58b038d49d31",
   "metadata": {
    "tags": []
   },
   "outputs": [],
   "source": [
    "# float\n",
    "x = 25.0\n",
    "y = 0.0\n",
    "z = -25.15413"
   ]
  },
  {
   "cell_type": "code",
   "execution_count": 10,
   "id": "674b5010-7fce-401b-8de7-ecd8f50d533a",
   "metadata": {
    "tags": []
   },
   "outputs": [
    {
     "name": "stdout",
     "output_type": "stream",
     "text": [
      "<class 'float'>\n"
     ]
    }
   ],
   "source": [
    "print(type(x))"
   ]
  },
  {
   "cell_type": "code",
   "execution_count": 11,
   "id": "1461b5eb-9fc0-42de-bfb0-e2ecc3ff4969",
   "metadata": {
    "tags": []
   },
   "outputs": [
    {
     "name": "stdout",
     "output_type": "stream",
     "text": [
      "<class 'float'>\n"
     ]
    }
   ],
   "source": [
    "print(type(y))"
   ]
  },
  {
   "cell_type": "code",
   "execution_count": 12,
   "id": "c78a52e9-80b9-4961-b43b-2e17ce792a9b",
   "metadata": {
    "tags": []
   },
   "outputs": [
    {
     "name": "stdout",
     "output_type": "stream",
     "text": [
      "<class 'float'>\n"
     ]
    }
   ],
   "source": [
    "print(type(z))"
   ]
  },
  {
   "cell_type": "code",
   "execution_count": 14,
   "id": "0fc5a7e3-462e-435b-aedd-fd21a74803d7",
   "metadata": {
    "tags": []
   },
   "outputs": [
    {
     "name": "stdout",
     "output_type": "stream",
     "text": [
      "<class 'complex'>\n"
     ]
    }
   ],
   "source": [
    "#complex\n",
    "x = 1+2j \n",
    "print(type(x))"
   ]
  },
  {
   "cell_type": "markdown",
   "id": "f788f42f-9403-4719-aa1f-69c5bf1a28be",
   "metadata": {},
   "source": [
    "### Boolean"
   ]
  },
  {
   "cell_type": "code",
   "execution_count": 15,
   "id": "eccfc120-734a-43fe-b0bc-0bb2608faf07",
   "metadata": {
    "tags": []
   },
   "outputs": [],
   "source": [
    "x = False\n",
    "y = True"
   ]
  },
  {
   "cell_type": "code",
   "execution_count": 16,
   "id": "9fe7cc9c-00c3-4233-9400-f94eb48758af",
   "metadata": {
    "tags": []
   },
   "outputs": [
    {
     "name": "stdout",
     "output_type": "stream",
     "text": [
      "<class 'bool'>\n"
     ]
    }
   ],
   "source": [
    "print(type(x))"
   ]
  },
  {
   "cell_type": "code",
   "execution_count": 17,
   "id": "321c9362-399c-4790-a9f5-81542277053e",
   "metadata": {
    "tags": []
   },
   "outputs": [
    {
     "name": "stdout",
     "output_type": "stream",
     "text": [
      "<class 'bool'>\n"
     ]
    }
   ],
   "source": [
    "print(type(y))"
   ]
  },
  {
   "cell_type": "markdown",
   "id": "39335a1b-4aa1-4622-90cb-0265466e180a",
   "metadata": {},
   "source": [
    "### Strings\n",
    "- String can be defined as a collection of characters inside the single quotes\n",
    "- String can be defined as a collection of characters inside the double quotes\n",
    "- String can be defined as a collection of characters inside the triple single quotes\n",
    "- String can be defined as a collection of characters inside the triple double quotes\n"
   ]
  },
  {
   "cell_type": "code",
   "execution_count": 18,
   "id": "2a582383-81f7-40e9-9d22-12cb2aa9bdd6",
   "metadata": {
    "tags": []
   },
   "outputs": [],
   "source": [
    "x = 'hello world welcome to mlops 12312'\n",
    "y = \" hello world mlops\"\n",
    "z = ''' hello world welcome '''\n",
    "w = \"\"\" welcome to mlops class \"\"\""
   ]
  },
  {
   "cell_type": "code",
   "execution_count": 19,
   "id": "cce328d5-ef04-46ae-9aee-b0500847f86b",
   "metadata": {
    "tags": []
   },
   "outputs": [
    {
     "name": "stdout",
     "output_type": "stream",
     "text": [
      "<class 'str'>\n",
      "<class 'str'>\n",
      "<class 'str'>\n",
      "<class 'str'>\n"
     ]
    },
    {
     "data": {
      "text/plain": [
       "(None, None, None, None)"
      ]
     },
     "execution_count": 19,
     "metadata": {},
     "output_type": "execute_result"
    }
   ],
   "source": [
    "print(type(x)) , print(type(y)), print(type(z)) , print(type(w))"
   ]
  },
  {
   "cell_type": "markdown",
   "id": "0bb242a2-1028-4654-9e4d-4b29586921cd",
   "metadata": {},
   "source": [
    "### Collection\n",
    " - Python list\n",
    " - Python Tuples\n",
    " - Python dictionary\n",
    " - Python sets"
   ]
  },
  {
   "cell_type": "markdown",
   "id": "7c0a793d-844c-41bf-a37a-124bb62dd088",
   "metadata": {},
   "source": [
    "# Operators in Python Programming "
   ]
  },
  {
   "cell_type": "markdown",
   "id": "aef479ed-d1ee-4aec-a776-e12679e3bc8e",
   "metadata": {},
   "source": [
    "- Arithmetic Operators\n",
    "- Comparison Operators\n",
    "- Assignment Operators\n",
    "- Logical Operators\n",
    "- Bitwise Operators\n",
    "- Identity Operators\n",
    "- Membership Operators"
   ]
  },
  {
   "cell_type": "markdown",
   "id": "6fcdd00c-b2c9-46dc-949f-aa7e9956cf86",
   "metadata": {},
   "source": [
    "### Arithmetic Operators"
   ]
  },
  {
   "cell_type": "code",
   "execution_count": 20,
   "id": "0dab7fff-9f18-4619-9dec-f91fc9289954",
   "metadata": {
    "tags": []
   },
   "outputs": [
    {
     "name": "stdout",
     "output_type": "stream",
     "text": [
      "35\n"
     ]
    }
   ],
   "source": [
    "x = 10\n",
    "y = 25\n",
    "print(x+y)"
   ]
  },
  {
   "cell_type": "code",
   "execution_count": 21,
   "id": "b2dd5f03-29f3-414e-a0e9-044a47b24408",
   "metadata": {
    "tags": []
   },
   "outputs": [
    {
     "name": "stdout",
     "output_type": "stream",
     "text": [
      "-15\n"
     ]
    }
   ],
   "source": [
    "print(x-y)"
   ]
  },
  {
   "cell_type": "code",
   "execution_count": 22,
   "id": "0a861fb6-e70d-4809-8226-d51fdf5b8f6c",
   "metadata": {
    "tags": []
   },
   "outputs": [
    {
     "name": "stdout",
     "output_type": "stream",
     "text": [
      "0.4\n"
     ]
    }
   ],
   "source": [
    "print(x/y)"
   ]
  },
  {
   "cell_type": "code",
   "execution_count": 23,
   "id": "23dd0347-d97d-4f4e-a812-ba4e2f1af4f8",
   "metadata": {
    "tags": []
   },
   "outputs": [
    {
     "name": "stdout",
     "output_type": "stream",
     "text": [
      "10000000000000000000000000\n"
     ]
    }
   ],
   "source": [
    "print(x**y) # exponentiation"
   ]
  },
  {
   "cell_type": "code",
   "execution_count": 24,
   "id": "1f8bd020-67cf-412e-9dba-7b5694078473",
   "metadata": {
    "tags": []
   },
   "outputs": [
    {
     "name": "stdout",
     "output_type": "stream",
     "text": [
      "10\n"
     ]
    }
   ],
   "source": [
    "#mod\n",
    "# return the remainder\n",
    "\n",
    "print(x%y)"
   ]
  },
  {
   "cell_type": "code",
   "execution_count": 25,
   "id": "9c214e59-d7d9-4bc3-b4a5-a85f2dfb65b7",
   "metadata": {
    "tags": []
   },
   "outputs": [
    {
     "name": "stdout",
     "output_type": "stream",
     "text": [
      "5\n"
     ]
    }
   ],
   "source": [
    "print(y%x)"
   ]
  },
  {
   "cell_type": "markdown",
   "id": "910aee4b-5155-4031-8951-53e5b8b758f1",
   "metadata": {},
   "source": [
    "### Comparision Operator"
   ]
  },
  {
   "cell_type": "code",
   "execution_count": 32,
   "id": "6acebda0-44f8-4dd0-9899-0f8c8f29f898",
   "metadata": {
    "tags": []
   },
   "outputs": [
    {
     "name": "stdout",
     "output_type": "stream",
     "text": [
      "10 25\n"
     ]
    }
   ],
   "source": [
    "print(x,y)"
   ]
  },
  {
   "cell_type": "code",
   "execution_count": 26,
   "id": "18eccb03-8581-4343-8306-fd99843bfe76",
   "metadata": {
    "tags": []
   },
   "outputs": [
    {
     "data": {
      "text/plain": [
       "False"
      ]
     },
     "execution_count": 26,
     "metadata": {},
     "output_type": "execute_result"
    }
   ],
   "source": [
    "x > y"
   ]
  },
  {
   "cell_type": "code",
   "execution_count": 27,
   "id": "952c5b2f-0f0e-4db5-8085-b03856740938",
   "metadata": {
    "tags": []
   },
   "outputs": [
    {
     "data": {
      "text/plain": [
       "True"
      ]
     },
     "execution_count": 27,
     "metadata": {},
     "output_type": "execute_result"
    }
   ],
   "source": [
    "x < y"
   ]
  },
  {
   "cell_type": "code",
   "execution_count": 28,
   "id": "e88d1c47-c806-4cbe-9298-06ef5575f6a6",
   "metadata": {
    "tags": []
   },
   "outputs": [
    {
     "data": {
      "text/plain": [
       "False"
      ]
     },
     "execution_count": 28,
     "metadata": {},
     "output_type": "execute_result"
    }
   ],
   "source": [
    "x >= y"
   ]
  },
  {
   "cell_type": "code",
   "execution_count": 29,
   "id": "1fd616fd-d6c0-435d-b2c1-48fbb87546db",
   "metadata": {
    "tags": []
   },
   "outputs": [
    {
     "data": {
      "text/plain": [
       "True"
      ]
     },
     "execution_count": 29,
     "metadata": {},
     "output_type": "execute_result"
    }
   ],
   "source": [
    "x <= y"
   ]
  },
  {
   "cell_type": "code",
   "execution_count": 30,
   "id": "d19fca1b-19c4-4cb1-b600-4be8558ee976",
   "metadata": {
    "tags": []
   },
   "outputs": [
    {
     "data": {
      "text/plain": [
       "True"
      ]
     },
     "execution_count": 30,
     "metadata": {},
     "output_type": "execute_result"
    }
   ],
   "source": [
    "x != y"
   ]
  },
  {
   "cell_type": "code",
   "execution_count": 31,
   "id": "a5110b7f-d3e4-4304-ab0b-92be5f4c069f",
   "metadata": {
    "tags": []
   },
   "outputs": [
    {
     "data": {
      "text/plain": [
       "False"
      ]
     },
     "execution_count": 31,
     "metadata": {},
     "output_type": "execute_result"
    }
   ],
   "source": [
    "x == y"
   ]
  },
  {
   "cell_type": "code",
   "execution_count": 33,
   "id": "488ddfb3-5acd-40e0-9e4a-0bb6afa04610",
   "metadata": {
    "tags": []
   },
   "outputs": [
    {
     "data": {
      "text/plain": [
       "35"
      ]
     },
     "execution_count": 33,
     "metadata": {},
     "output_type": "execute_result"
    }
   ],
   "source": [
    "z = x+y\n",
    "z"
   ]
  },
  {
   "cell_type": "code",
   "execution_count": 34,
   "id": "e6b43cac-3a62-4d3c-8e11-6445785e3221",
   "metadata": {
    "tags": []
   },
   "outputs": [
    {
     "data": {
      "text/plain": [
       "10"
      ]
     },
     "execution_count": 34,
     "metadata": {},
     "output_type": "execute_result"
    }
   ],
   "source": [
    "x"
   ]
  },
  {
   "cell_type": "markdown",
   "id": "b60d1068-44cc-4d69-97bc-247668770df7",
   "metadata": {},
   "source": [
    "### Assignment Operators"
   ]
  },
  {
   "cell_type": "code",
   "execution_count": 35,
   "id": "d30015fd-54e7-4457-a224-47e3828238a2",
   "metadata": {
    "tags": []
   },
   "outputs": [
    {
     "data": {
      "text/plain": [
       "100"
      ]
     },
     "execution_count": 35,
     "metadata": {},
     "output_type": "execute_result"
    }
   ],
   "source": [
    "x = 100\n",
    "x"
   ]
  },
  {
   "cell_type": "code",
   "execution_count": 36,
   "id": "13fdb8a2-4356-4115-9960-e5c0b9fad51f",
   "metadata": {
    "tags": []
   },
   "outputs": [
    {
     "data": {
      "text/plain": [
       "110"
      ]
     },
     "execution_count": 36,
     "metadata": {},
     "output_type": "execute_result"
    }
   ],
   "source": [
    "x += 10 # x = x+10\n",
    "x"
   ]
  },
  {
   "cell_type": "code",
   "execution_count": 37,
   "id": "b0f508b3-2175-4045-a153-9c204ecb4daa",
   "metadata": {
    "tags": []
   },
   "outputs": [
    {
     "data": {
      "text/plain": [
       "90"
      ]
     },
     "execution_count": 37,
     "metadata": {},
     "output_type": "execute_result"
    }
   ],
   "source": [
    "x -= 20 # x = x-20\n",
    "x"
   ]
  },
  {
   "cell_type": "code",
   "execution_count": 38,
   "id": "efc3ff3e-8730-40b7-82f7-f081df95b430",
   "metadata": {
    "tags": []
   },
   "outputs": [
    {
     "data": {
      "text/plain": [
       "10.0"
      ]
     },
     "execution_count": 38,
     "metadata": {},
     "output_type": "execute_result"
    }
   ],
   "source": [
    "x /= 9\n",
    "x"
   ]
  },
  {
   "cell_type": "markdown",
   "id": "c3a3b1c9-28b3-447e-922f-fd2491e1e4c4",
   "metadata": {},
   "source": [
    "### Bitwise Operators"
   ]
  },
  {
   "cell_type": "code",
   "execution_count": 41,
   "id": "73cac7e8-7c19-40ff-9897-d769967b7c09",
   "metadata": {
    "tags": []
   },
   "outputs": [
    {
     "data": {
      "text/plain": [
       "8"
      ]
     },
     "execution_count": 41,
     "metadata": {},
     "output_type": "execute_result"
    }
   ],
   "source": [
    "x = 10\n",
    "x & y # bit representation and apply `and`  gate"
   ]
  },
  {
   "cell_type": "markdown",
   "id": "240adf4e-8e9a-4ec6-a0de-32b0aab1db38",
   "metadata": {},
   "source": [
    "### Identity"
   ]
  },
  {
   "cell_type": "code",
   "execution_count": 42,
   "id": "1d4f07c4-c6d1-477a-be9d-b6353e8e2a34",
   "metadata": {
    "tags": []
   },
   "outputs": [
    {
     "name": "stderr",
     "output_type": "stream",
     "text": [
      "<>:1: SyntaxWarning: \"is\" with a literal. Did you mean \"==\"?\n",
      "<>:1: SyntaxWarning: \"is\" with a literal. Did you mean \"==\"?\n",
      "/var/folders/xk/0pfb24315clcz5hhv8f69q5c0000gp/T/ipykernel_4633/2183931627.py:1: SyntaxWarning: \"is\" with a literal. Did you mean \"==\"?\n",
      "  x is 10\n"
     ]
    },
    {
     "data": {
      "text/plain": [
       "True"
      ]
     },
     "execution_count": 42,
     "metadata": {},
     "output_type": "execute_result"
    }
   ],
   "source": [
    "x is 10"
   ]
  },
  {
   "cell_type": "code",
   "execution_count": 43,
   "id": "898a1582-6502-4d66-b77f-73f23405797a",
   "metadata": {
    "tags": []
   },
   "outputs": [
    {
     "data": {
      "text/plain": [
       "False"
      ]
     },
     "execution_count": 43,
     "metadata": {},
     "output_type": "execute_result"
    }
   ],
   "source": [
    "x is y"
   ]
  },
  {
   "cell_type": "code",
   "execution_count": 44,
   "id": "f3541b24-7109-4b71-a84d-b0e50d9c5e40",
   "metadata": {
    "tags": []
   },
   "outputs": [
    {
     "data": {
      "text/plain": [
       "True"
      ]
     },
     "execution_count": 44,
     "metadata": {},
     "output_type": "execute_result"
    }
   ],
   "source": [
    "x is not y"
   ]
  },
  {
   "cell_type": "markdown",
   "id": "74439ca7-fcd0-4d19-9d12-b95de2518422",
   "metadata": {},
   "source": [
    "### Membership\n",
    "- in\n",
    "- not in"
   ]
  },
  {
   "cell_type": "markdown",
   "id": "1ec60849-75b8-43c1-9f3f-12c102ac6f8d",
   "metadata": {
    "tags": []
   },
   "source": [
    "# Collection Object - Strings\n",
    "Common Operations:\n",
    "- Concatenation \n",
    "- Repetition\n",
    "- Membership Operators\n",
    "- Length\n",
    "- Indexing\n",
    "- Slicing"
   ]
  },
  {
   "cell_type": "code",
   "execution_count": 46,
   "id": "d0f06821-258c-4575-93bd-6b72d58bf27d",
   "metadata": {
    "tags": []
   },
   "outputs": [],
   "source": [
    "# Single line\n",
    "x = 'hello world welcome to mlops 12312'\n",
    "y = \" hello world mlops\"\n",
    "\n",
    "# Multi line string\n",
    "z = ''' hello world welcome '''\n",
    "w = \"\"\" welcome to mlops class \"\"\""
   ]
  },
  {
   "cell_type": "code",
   "execution_count": 50,
   "id": "cde8b6c8-b53f-473b-aaf5-9ba24bf4a0c4",
   "metadata": {
    "tags": []
   },
   "outputs": [
    {
     "ename": "SyntaxError",
     "evalue": "unterminated string literal (detected at line 1) (4143074626.py, line 1)",
     "output_type": "error",
     "traceback": [
      "\u001b[0;36m  Cell \u001b[0;32mIn[50], line 1\u001b[0;36m\u001b[0m\n\u001b[0;31m    a = 'hello\u001b[0m\n\u001b[0m        ^\u001b[0m\n\u001b[0;31mSyntaxError\u001b[0m\u001b[0;31m:\u001b[0m unterminated string literal (detected at line 1)\n"
     ]
    }
   ],
   "source": [
    "a = 'hello \n",
    "world'\n",
    "a"
   ]
  },
  {
   "cell_type": "code",
   "execution_count": 48,
   "id": "6feaade9-ba1b-4c9a-8d01-0ef3a568a153",
   "metadata": {
    "tags": []
   },
   "outputs": [
    {
     "ename": "SyntaxError",
     "evalue": "unterminated string literal (detected at line 1) (3271096044.py, line 1)",
     "output_type": "error",
     "traceback": [
      "\u001b[0;36m  Cell \u001b[0;32mIn[48], line 1\u001b[0;36m\u001b[0m\n\u001b[0;31m    b = \"hello\u001b[0m\n\u001b[0m        ^\u001b[0m\n\u001b[0;31mSyntaxError\u001b[0m\u001b[0;31m:\u001b[0m unterminated string literal (detected at line 1)\n"
     ]
    }
   ],
   "source": [
    "b = \"hello\n",
    "world\""
   ]
  },
  {
   "cell_type": "code",
   "execution_count": 52,
   "id": "f21dbff2-5fd6-4003-bd33-69a37ae5bee3",
   "metadata": {
    "tags": []
   },
   "outputs": [
    {
     "name": "stdout",
     "output_type": "stream",
     "text": [
      "hello\n",
      "world\n"
     ]
    }
   ],
   "source": [
    "c = '''hello\n",
    "world'''\n",
    "print(c)"
   ]
  },
  {
   "cell_type": "code",
   "execution_count": 53,
   "id": "7696db7d-bd1d-4e30-9fb2-8a2f8a0a9850",
   "metadata": {
    "tags": []
   },
   "outputs": [
    {
     "name": "stdout",
     "output_type": "stream",
     "text": [
      "hello\n",
      "world\n"
     ]
    }
   ],
   "source": [
    "d = \"\"\"hello\n",
    "world\"\"\"\n",
    "print(d)"
   ]
  },
  {
   "cell_type": "code",
   "execution_count": 55,
   "id": "d68b7918-0fff-46e8-bee3-92f1e7f65a79",
   "metadata": {
    "tags": []
   },
   "outputs": [
    {
     "data": {
      "text/plain": [
       "'mlopsproject'"
      ]
     },
     "execution_count": 55,
     "metadata": {},
     "output_type": "execute_result"
    }
   ],
   "source": [
    "x = 'mlops'\n",
    "y = 'project'\n",
    "x+y # concatenation"
   ]
  },
  {
   "cell_type": "code",
   "execution_count": 57,
   "id": "6d2f4a97-3f43-4ccd-9144-3c880f60c116",
   "metadata": {
    "tags": []
   },
   "outputs": [
    {
     "data": {
      "text/plain": [
       "'mlopsmlops'"
      ]
     },
     "execution_count": 57,
     "metadata": {},
     "output_type": "execute_result"
    }
   ],
   "source": [
    "x*2 # repetition"
   ]
  },
  {
   "cell_type": "code",
   "execution_count": 60,
   "id": "84513656-ee73-4b75-9a3c-99d5198fa9eb",
   "metadata": {
    "tags": []
   },
   "outputs": [
    {
     "data": {
      "text/plain": [
       "True"
      ]
     },
     "execution_count": 60,
     "metadata": {},
     "output_type": "execute_result"
    }
   ],
   "source": [
    "'mlops' in x # membership operator"
   ]
  },
  {
   "cell_type": "code",
   "execution_count": 59,
   "id": "8a28de37-c524-4372-85ca-58d4221a13a9",
   "metadata": {
    "tags": []
   },
   "outputs": [
    {
     "data": {
      "text/plain": [
       "False"
      ]
     },
     "execution_count": 59,
     "metadata": {},
     "output_type": "execute_result"
    }
   ],
   "source": [
    "'welcome' in x"
   ]
  },
  {
   "cell_type": "code",
   "execution_count": 61,
   "id": "d1209753-25d9-42e5-8af8-c4efefd592de",
   "metadata": {
    "tags": []
   },
   "outputs": [
    {
     "name": "stdout",
     "output_type": "stream",
     "text": [
      "mlops\n"
     ]
    }
   ],
   "source": [
    "print(x)"
   ]
  },
  {
   "cell_type": "code",
   "execution_count": 62,
   "id": "fe643585-4d2b-4e71-93cb-dd53d1b9d083",
   "metadata": {
    "tags": []
   },
   "outputs": [
    {
     "data": {
      "text/plain": [
       "5"
      ]
     },
     "execution_count": 62,
     "metadata": {},
     "output_type": "execute_result"
    }
   ],
   "source": [
    "len(x) # length"
   ]
  },
  {
   "cell_type": "code",
   "execution_count": 63,
   "id": "bd08bf0f-7730-45c2-9725-d94c19cb15f8",
   "metadata": {
    "tags": []
   },
   "outputs": [],
   "source": [
    "# indexing - fetch the element by referring its position\n",
    "# slicing - fetching the subset from the given sequence"
   ]
  },
  {
   "cell_type": "code",
   "execution_count": 64,
   "id": "fcb48345-3499-492b-9986-43be76253eb7",
   "metadata": {
    "tags": []
   },
   "outputs": [],
   "source": [
    "x = \"hello class, welcome to mlops complete bootcamp\""
   ]
  },
  {
   "cell_type": "code",
   "execution_count": 65,
   "id": "f675c157-6c7e-4ff9-aeb8-551769b303bb",
   "metadata": {
    "tags": []
   },
   "outputs": [
    {
     "name": "stdout",
     "output_type": "stream",
     "text": [
      "hello class, welcome to mlops complete bootcamp\n"
     ]
    }
   ],
   "source": [
    "print(x)"
   ]
  },
  {
   "cell_type": "code",
   "execution_count": 66,
   "id": "60b1ac96-cb08-4b30-9150-8078b24d9d47",
   "metadata": {
    "tags": []
   },
   "outputs": [
    {
     "data": {
      "text/plain": [
       "'e'"
      ]
     },
     "execution_count": 66,
     "metadata": {},
     "output_type": "execute_result"
    }
   ],
   "source": [
    "# Indexing starts from zero\n",
    "x[1]"
   ]
  },
  {
   "cell_type": "code",
   "execution_count": 67,
   "id": "d4f412d2-35b5-49f2-8574-7375d1d0858b",
   "metadata": {
    "tags": []
   },
   "outputs": [
    {
     "data": {
      "text/plain": [
       "' '"
      ]
     },
     "execution_count": 67,
     "metadata": {},
     "output_type": "execute_result"
    }
   ],
   "source": [
    "x[5]"
   ]
  },
  {
   "cell_type": "code",
   "execution_count": 68,
   "id": "07560cd7-6ae1-4dfc-aaf7-f39f8a2a2810",
   "metadata": {
    "tags": []
   },
   "outputs": [
    {
     "data": {
      "text/plain": [
       "'c'"
      ]
     },
     "execution_count": 68,
     "metadata": {},
     "output_type": "execute_result"
    }
   ],
   "source": [
    "x[6]"
   ]
  },
  {
   "cell_type": "code",
   "execution_count": 69,
   "id": "9544f33a-8933-43ef-bec3-8cce860c3618",
   "metadata": {
    "tags": []
   },
   "outputs": [],
   "source": [
    "# Slicing - getting the subset\n",
    "# variable[start:stop] - start index position is inclusive, and end is exclusive"
   ]
  },
  {
   "cell_type": "code",
   "execution_count": 70,
   "id": "69c44d35-8065-41b2-b583-7566ba1adbe3",
   "metadata": {
    "tags": []
   },
   "outputs": [
    {
     "data": {
      "text/plain": [
       "'ello'"
      ]
     },
     "execution_count": 70,
     "metadata": {},
     "output_type": "execute_result"
    }
   ],
   "source": [
    "x[1:5] # start with 1st index , go till 5, but excluding 5"
   ]
  },
  {
   "cell_type": "code",
   "execution_count": 71,
   "id": "ce73571e-dd5a-4951-8921-a917369bfeaa",
   "metadata": {
    "tags": []
   },
   "outputs": [
    {
     "data": {
      "text/plain": [
       "'llo '"
      ]
     },
     "execution_count": 71,
     "metadata": {},
     "output_type": "execute_result"
    }
   ],
   "source": [
    "x[2:6]"
   ]
  },
  {
   "cell_type": "code",
   "execution_count": 72,
   "id": "2363db61-3a51-4059-bdc5-1b374a0d8790",
   "metadata": {
    "tags": []
   },
   "outputs": [
    {
     "data": {
      "text/plain": [
       "'hello class, welcome to mlops complete bootcamp'"
      ]
     },
     "execution_count": 72,
     "metadata": {},
     "output_type": "execute_result"
    }
   ],
   "source": [
    "x"
   ]
  },
  {
   "cell_type": "code",
   "execution_count": 73,
   "id": "0ea51fd2-7b7f-4692-bcce-ffcd2ff0922c",
   "metadata": {
    "tags": []
   },
   "outputs": [
    {
     "ename": "TypeError",
     "evalue": "'str' object does not support item assignment",
     "output_type": "error",
     "traceback": [
      "\u001b[0;31m---------------------------------------------------------------------------\u001b[0m",
      "\u001b[0;31mTypeError\u001b[0m                                 Traceback (most recent call last)",
      "Cell \u001b[0;32mIn[73], line 1\u001b[0m\n\u001b[0;32m----> 1\u001b[0m x[\u001b[38;5;241m0\u001b[39m] \u001b[38;5;241m=\u001b[39m \u001b[38;5;124m'\u001b[39m\u001b[38;5;124mH\u001b[39m\u001b[38;5;124m'\u001b[39m\n",
      "\u001b[0;31mTypeError\u001b[0m: 'str' object does not support item assignment"
     ]
    }
   ],
   "source": [
    "x[0] = 'H'"
   ]
  },
  {
   "cell_type": "markdown",
   "id": "c7527b2e-c99a-46f5-a142-71c6e971b2bf",
   "metadata": {
    "tags": []
   },
   "source": [
    "## Built-in Functions"
   ]
  },
  {
   "cell_type": "code",
   "execution_count": 1,
   "id": "334a21ef-39e3-4947-9617-ece2a278cb44",
   "metadata": {},
   "outputs": [],
   "source": [
    "# Single line\n",
    "x = 'hello world welcome to mlops 12312'\n",
    "y = \" hello world mlops\"\n",
    "\n",
    "# Multi line string\n",
    "z = ''' hello world welcome '''\n",
    "w = \"\"\" welcome to mlops class \"\"\""
   ]
  },
  {
   "cell_type": "code",
   "execution_count": 3,
   "id": "90826dde-e84c-4dd3-adb9-1aa3034bdfe4",
   "metadata": {
    "tags": []
   },
   "outputs": [
    {
     "data": {
      "text/plain": [
       "'Hello world welcome to mlops 12312'"
      ]
     },
     "execution_count": 3,
     "metadata": {},
     "output_type": "execute_result"
    }
   ],
   "source": [
    "x.capitalize() # first letter capitalization"
   ]
  },
  {
   "cell_type": "code",
   "execution_count": 4,
   "id": "60d1db6d-6f83-4c3c-8715-bf6df32c6451",
   "metadata": {
    "tags": []
   },
   "outputs": [
    {
     "data": {
      "text/plain": [
       "False"
      ]
     },
     "execution_count": 4,
     "metadata": {},
     "output_type": "execute_result"
    }
   ],
   "source": [
    "x.isalnum() # check whether the string is alpha numeric is or not"
   ]
  },
  {
   "cell_type": "code",
   "execution_count": 5,
   "id": "1f0cdece-4e2c-4b0c-8923-98961224fed2",
   "metadata": {
    "tags": []
   },
   "outputs": [
    {
     "data": {
      "text/plain": [
       "True"
      ]
     },
     "execution_count": 5,
     "metadata": {},
     "output_type": "execute_result"
    }
   ],
   "source": [
    "\"welcome123\".isalnum()"
   ]
  },
  {
   "cell_type": "code",
   "execution_count": 8,
   "id": "ba464a4f-60cd-4d8d-a3e7-7ad170ccc180",
   "metadata": {
    "tags": []
   },
   "outputs": [
    {
     "data": {
      "text/plain": [
       "'welcome to python'"
      ]
     },
     "execution_count": 8,
     "metadata": {},
     "output_type": "execute_result"
    }
   ],
   "source": [
    "a = 'WELCOME TO PYTHON'\n",
    "a.lower()"
   ]
  },
  {
   "cell_type": "code",
   "execution_count": 9,
   "id": "b6f8aff7-60e4-44b1-b9e8-0a526e47c01e",
   "metadata": {
    "tags": []
   },
   "outputs": [
    {
     "data": {
      "text/plain": [
       "'HELLO WORLD WELCOME TO MLOPS WELCOME12312'"
      ]
     },
     "execution_count": 9,
     "metadata": {},
     "output_type": "execute_result"
    }
   ],
   "source": [
    "x.upper()"
   ]
  },
  {
   "cell_type": "code",
   "execution_count": 10,
   "id": "43d2c093-8ae8-4a5c-838a-e0d2296d4a51",
   "metadata": {
    "tags": []
   },
   "outputs": [
    {
     "name": "stdout",
     "output_type": "stream",
     "text": [
      "welcome.\n"
     ]
    }
   ],
   "source": [
    "#strip\n",
    "a = \"    welcome.  \"\n",
    "print(a.strip())"
   ]
  },
  {
   "cell_type": "markdown",
   "id": "fa9dc111-0dcc-4c45-a437-fe162d0cf665",
   "metadata": {
    "tags": []
   },
   "source": [
    "# Data Structures - List\n",
    "<p> In Python, a list serves as a flexible and mutable data type designed for storing a group of items. Maintaining order is a key feature of lists, ensuring that the sequence in which elements are added is retained. Lists can accommodate diverse data types, encompassing numbers, strings, and even nested lists. The syntax for defining a list involves enclosing a sequence of elements in square brackets, with commas separating individual items. </p>"
   ]
  },
  {
   "cell_type": "code",
   "execution_count": 11,
   "id": "17f8570a-b82b-4b02-bb76-e117cbece601",
   "metadata": {
    "tags": []
   },
   "outputs": [
    {
     "name": "stdout",
     "output_type": "stream",
     "text": [
      "[20, 30, 'hello', 'welcome', 12.25]\n"
     ]
    }
   ],
   "source": [
    "x = [20, 30,\"hello\",\"welcome\",12.25]\n",
    "print(x)"
   ]
  },
  {
   "cell_type": "code",
   "execution_count": 12,
   "id": "a8ffef7d-cde4-41da-bee1-fd1615aa498b",
   "metadata": {
    "tags": []
   },
   "outputs": [
    {
     "data": {
      "text/plain": [
       "list"
      ]
     },
     "execution_count": 12,
     "metadata": {},
     "output_type": "execute_result"
    }
   ],
   "source": [
    "type(x)"
   ]
  },
  {
   "cell_type": "code",
   "execution_count": 13,
   "id": "e6afe53c-da64-466c-bade-07dec578b44b",
   "metadata": {
    "tags": []
   },
   "outputs": [
    {
     "name": "stdout",
     "output_type": "stream",
     "text": [
      "<class 'list'>\n"
     ]
    }
   ],
   "source": [
    "print(type(x))"
   ]
  },
  {
   "cell_type": "markdown",
   "id": "975abf05-ad58-4bda-b661-17c13048deb6",
   "metadata": {},
   "source": [
    "## Operations in Lists"
   ]
  },
  {
   "cell_type": "code",
   "execution_count": 14,
   "id": "92096879-0cc2-4622-9afb-aaf45d402cb3",
   "metadata": {
    "tags": []
   },
   "outputs": [],
   "source": [
    "x = [10,20]\n",
    "y = ['welcome','class']"
   ]
  },
  {
   "cell_type": "code",
   "execution_count": 15,
   "id": "4b1cc43d-8c63-4ef7-93c7-6acb72bd361e",
   "metadata": {
    "tags": []
   },
   "outputs": [
    {
     "data": {
      "text/plain": [
       "[10, 20, 'welcome', 'class']"
      ]
     },
     "execution_count": 15,
     "metadata": {},
     "output_type": "execute_result"
    }
   ],
   "source": [
    "x+y"
   ]
  },
  {
   "cell_type": "code",
   "execution_count": 16,
   "id": "8420f85f-b019-4c7e-8266-a265a2f2be6b",
   "metadata": {
    "tags": []
   },
   "outputs": [
    {
     "data": {
      "text/plain": [
       "[10, 20, 10, 20, 10, 20]"
      ]
     },
     "execution_count": 16,
     "metadata": {},
     "output_type": "execute_result"
    }
   ],
   "source": [
    "x*3"
   ]
  },
  {
   "cell_type": "code",
   "execution_count": 17,
   "id": "eaaaccda-b53b-41ad-8c52-15014cfe4f97",
   "metadata": {
    "tags": []
   },
   "outputs": [
    {
     "data": {
      "text/plain": [
       "True"
      ]
     },
     "execution_count": 17,
     "metadata": {},
     "output_type": "execute_result"
    }
   ],
   "source": [
    "10 in x"
   ]
  },
  {
   "cell_type": "code",
   "execution_count": 18,
   "id": "0bf07c83-c06d-438e-95d0-3bc7387c000b",
   "metadata": {
    "tags": []
   },
   "outputs": [
    {
     "data": {
      "text/plain": [
       "2"
      ]
     },
     "execution_count": 18,
     "metadata": {},
     "output_type": "execute_result"
    }
   ],
   "source": [
    "len(x)"
   ]
  },
  {
   "cell_type": "code",
   "execution_count": 19,
   "id": "13ba4675-a322-43c2-a3a9-bae2fb147f57",
   "metadata": {
    "tags": []
   },
   "outputs": [
    {
     "name": "stdout",
     "output_type": "stream",
     "text": [
      "[20, 30, 'hello', 'welcome', 12.25]\n"
     ]
    }
   ],
   "source": [
    "x = [20, 30,\"hello\",\"welcome\",12.25]\n",
    "print(x)"
   ]
  },
  {
   "cell_type": "code",
   "execution_count": 20,
   "id": "050727e3-dec4-4a6a-8b99-0fa248835cb2",
   "metadata": {
    "tags": []
   },
   "outputs": [
    {
     "data": {
      "text/plain": [
       "20"
      ]
     },
     "execution_count": 20,
     "metadata": {},
     "output_type": "execute_result"
    }
   ],
   "source": [
    "x[0]"
   ]
  },
  {
   "cell_type": "code",
   "execution_count": 21,
   "id": "05d5f40b-11d7-490e-ace7-f12c107bff4d",
   "metadata": {
    "tags": []
   },
   "outputs": [
    {
     "ename": "IndexError",
     "evalue": "list index out of range",
     "output_type": "error",
     "traceback": [
      "\u001b[0;31m---------------------------------------------------------------------------\u001b[0m",
      "\u001b[0;31mIndexError\u001b[0m                                Traceback (most recent call last)",
      "Cell \u001b[0;32mIn[21], line 1\u001b[0m\n\u001b[0;32m----> 1\u001b[0m x[\u001b[38;5;241m30\u001b[39m]\n",
      "\u001b[0;31mIndexError\u001b[0m: list index out of range"
     ]
    }
   ],
   "source": [
    "x[30]"
   ]
  },
  {
   "cell_type": "code",
   "execution_count": 22,
   "id": "961ad501-1d7f-457e-8cdc-2b386ec5cb33",
   "metadata": {
    "tags": []
   },
   "outputs": [
    {
     "data": {
      "text/plain": [
       "'welcome'"
      ]
     },
     "execution_count": 22,
     "metadata": {},
     "output_type": "execute_result"
    }
   ],
   "source": [
    "x[3]"
   ]
  },
  {
   "cell_type": "code",
   "execution_count": 23,
   "id": "19a438d4-bc73-42d0-86e3-886a0fdddbb7",
   "metadata": {
    "tags": []
   },
   "outputs": [
    {
     "data": {
      "text/plain": [
       "[20, 30, 'hello', 'welcome']"
      ]
     },
     "execution_count": 23,
     "metadata": {},
     "output_type": "execute_result"
    }
   ],
   "source": [
    "x[0:4]"
   ]
  },
  {
   "cell_type": "code",
   "execution_count": 24,
   "id": "1c45793e-1b39-4f3c-88b0-aeec109f81d6",
   "metadata": {
    "tags": []
   },
   "outputs": [
    {
     "data": {
      "text/plain": [
       "[20, 30, 'hello', 'welcome', 12.25]"
      ]
     },
     "execution_count": 24,
     "metadata": {},
     "output_type": "execute_result"
    }
   ],
   "source": [
    "x"
   ]
  },
  {
   "cell_type": "code",
   "execution_count": 25,
   "id": "6eee0a9b-40c2-46d4-b490-46db175a3341",
   "metadata": {
    "tags": []
   },
   "outputs": [
    {
     "data": {
      "text/plain": [
       "[20, 30, 'mlops', 'welcome', 12.25]"
      ]
     },
     "execution_count": 25,
     "metadata": {},
     "output_type": "execute_result"
    }
   ],
   "source": [
    "x[2] = 'mlops'\n",
    "x"
   ]
  },
  {
   "cell_type": "markdown",
   "id": "57f46230-8e2c-433a-b0f3-bd77946b611d",
   "metadata": {},
   "source": [
    "## Built-in Function Lists"
   ]
  },
  {
   "cell_type": "code",
   "execution_count": 26,
   "id": "7a045ba6-1155-4196-80c4-776f0ad548ac",
   "metadata": {
    "tags": []
   },
   "outputs": [
    {
     "data": {
      "text/plain": [
       "[20, 30, 'mlops', 'welcome', 12.25, 999]"
      ]
     },
     "execution_count": 26,
     "metadata": {},
     "output_type": "execute_result"
    }
   ],
   "source": [
    "x.append(999)\n",
    "x"
   ]
  },
  {
   "cell_type": "code",
   "execution_count": 27,
   "id": "21340ef9-7389-4d08-ba7c-c5a39e4d8c2c",
   "metadata": {
    "tags": []
   },
   "outputs": [],
   "source": [
    "x.remove(12.25)"
   ]
  },
  {
   "cell_type": "code",
   "execution_count": 28,
   "id": "a6b2c725-c90b-448d-b806-f7c1a55b812e",
   "metadata": {
    "tags": []
   },
   "outputs": [
    {
     "data": {
      "text/plain": [
       "[20, 30, 'mlops', 'welcome', 999]"
      ]
     },
     "execution_count": 28,
     "metadata": {},
     "output_type": "execute_result"
    }
   ],
   "source": [
    "x"
   ]
  },
  {
   "cell_type": "markdown",
   "id": "bbf31928-3678-4d7d-a8a4-d8f10d423175",
   "metadata": {},
   "source": [
    "# Data Structures - Tuples\n",
    "<p> \n",
    "Within Python, a tuple stands as an additional built-in and ordered collection type akin to a list. Nevertheless, distinctions between lists and tuples exist:\n",
    "\n",
    "- Immutability: Tuples are characterized by immutability, signifying that their elements remain unalterable after the tuple's creation. Once a tuple is established, the addition, removal, or modification of elements becomes unfeasible.\n",
    "\n",
    "- Syntax: The definition of tuples involves enclosing a sequence of elements, separated by commas, within parentheses (). </p>"
   ]
  },
  {
   "cell_type": "code",
   "execution_count": 29,
   "id": "375f309c-71c0-4ff1-b5c0-24d505aeaad1",
   "metadata": {
    "tags": []
   },
   "outputs": [
    {
     "data": {
      "text/plain": [
       "tuple"
      ]
     },
     "execution_count": 29,
     "metadata": {},
     "output_type": "execute_result"
    }
   ],
   "source": [
    "tup = (10, 20, 'welcome','mlops',12.567)\n",
    "type(tup)"
   ]
  },
  {
   "cell_type": "code",
   "execution_count": 30,
   "id": "cea4c710-90d2-479e-abdc-4461c8934cd8",
   "metadata": {
    "tags": []
   },
   "outputs": [
    {
     "ename": "TypeError",
     "evalue": "'tuple' object does not support item assignment",
     "output_type": "error",
     "traceback": [
      "\u001b[0;31m---------------------------------------------------------------------------\u001b[0m",
      "\u001b[0;31mTypeError\u001b[0m                                 Traceback (most recent call last)",
      "Cell \u001b[0;32mIn[30], line 2\u001b[0m\n\u001b[1;32m      1\u001b[0m \u001b[38;5;66;03m# immutable\u001b[39;00m\n\u001b[0;32m----> 2\u001b[0m tup[\u001b[38;5;241m0\u001b[39m] \u001b[38;5;241m=\u001b[39m \u001b[38;5;124m'\u001b[39m\u001b[38;5;124mwelcome\u001b[39m\u001b[38;5;124m'\u001b[39m\n",
      "\u001b[0;31mTypeError\u001b[0m: 'tuple' object does not support item assignment"
     ]
    }
   ],
   "source": [
    "# immutable\n",
    "tup[0] = 'welcome'"
   ]
  },
  {
   "cell_type": "code",
   "execution_count": 31,
   "id": "9944b12f-e7cf-494c-8e3b-7ee7489b768d",
   "metadata": {
    "tags": []
   },
   "outputs": [
    {
     "data": {
      "text/plain": [
       "(10, 20, 'welcome', 'mlops', 12.567)"
      ]
     },
     "execution_count": 31,
     "metadata": {},
     "output_type": "execute_result"
    }
   ],
   "source": [
    "tup"
   ]
  },
  {
   "cell_type": "code",
   "execution_count": 32,
   "id": "e149c90b-84fc-425f-bd41-81d4529b61b6",
   "metadata": {
    "tags": []
   },
   "outputs": [
    {
     "data": {
      "text/plain": [
       "(10, 20, 'welcome', 'mlops', 12.567, 10, 20, 'welcome', 'mlops', 12.567)"
      ]
     },
     "execution_count": 32,
     "metadata": {},
     "output_type": "execute_result"
    }
   ],
   "source": [
    "tup + tup"
   ]
  },
  {
   "cell_type": "code",
   "execution_count": 33,
   "id": "aaff3be1-fc42-4a87-bf90-3077086ccf3c",
   "metadata": {
    "tags": []
   },
   "outputs": [
    {
     "data": {
      "text/plain": [
       "(10,\n",
       " 20,\n",
       " 'welcome',\n",
       " 'mlops',\n",
       " 12.567,\n",
       " 10,\n",
       " 20,\n",
       " 'welcome',\n",
       " 'mlops',\n",
       " 12.567,\n",
       " 10,\n",
       " 20,\n",
       " 'welcome',\n",
       " 'mlops',\n",
       " 12.567)"
      ]
     },
     "execution_count": 33,
     "metadata": {},
     "output_type": "execute_result"
    }
   ],
   "source": [
    "tup * 3"
   ]
  },
  {
   "cell_type": "code",
   "execution_count": 34,
   "id": "4f2ecae3-ce2c-44dc-b3db-3be3f33b75c1",
   "metadata": {
    "tags": []
   },
   "outputs": [
    {
     "data": {
      "text/plain": [
       "'welcome'"
      ]
     },
     "execution_count": 34,
     "metadata": {},
     "output_type": "execute_result"
    }
   ],
   "source": [
    "tup[2] # indexing"
   ]
  },
  {
   "cell_type": "code",
   "execution_count": 36,
   "id": "495ed61a-024a-45ee-bb02-506e0976c255",
   "metadata": {
    "tags": []
   },
   "outputs": [
    {
     "data": {
      "text/plain": [
       "(20, 'welcome', 'mlops')"
      ]
     },
     "execution_count": 36,
     "metadata": {},
     "output_type": "execute_result"
    }
   ],
   "source": [
    "tup[1:4] # slicing"
   ]
  },
  {
   "cell_type": "code",
   "execution_count": 37,
   "id": "22802192-00e0-4374-84d6-5677842e3bbd",
   "metadata": {
    "tags": []
   },
   "outputs": [
    {
     "data": {
      "text/plain": [
       "5"
      ]
     },
     "execution_count": 37,
     "metadata": {},
     "output_type": "execute_result"
    }
   ],
   "source": [
    "len(tup)"
   ]
  },
  {
   "cell_type": "markdown",
   "id": "6f01c0ba-ef43-4ec0-b95a-a76de6eea63b",
   "metadata": {},
   "source": [
    "# Data Structures - Python Dictionary\n",
    "<p> \n",
    "In Python, a dictionary is a versatile and mutable data type that is used to store key-value pairs. Unlike lists and tuples, which are indexed by a range of numbers, dictionaries are indexed by keys, which can be of any immutable data type, such as strings or numbers. </p>"
   ]
  },
  {
   "cell_type": "code",
   "execution_count": 38,
   "id": "7385d033-c096-4d25-810c-c7d04b2f4256",
   "metadata": {
    "tags": []
   },
   "outputs": [
    {
     "data": {
      "text/plain": [
       "{'number': 9000, 'name': 'john', 'age': 25, 'city': 'bangalore'}"
      ]
     },
     "execution_count": 38,
     "metadata": {},
     "output_type": "execute_result"
    }
   ],
   "source": [
    "x = {'number' : 9000, \"name\": \"john\", 'age':25, 'city': 'bangalore'}\n",
    "x"
   ]
  },
  {
   "cell_type": "code",
   "execution_count": 39,
   "id": "1b72175c-e252-4641-8135-327639bf5cae",
   "metadata": {
    "tags": []
   },
   "outputs": [
    {
     "data": {
      "text/plain": [
       "'john'"
      ]
     },
     "execution_count": 39,
     "metadata": {},
     "output_type": "execute_result"
    }
   ],
   "source": [
    "x['name']"
   ]
  },
  {
   "cell_type": "code",
   "execution_count": 40,
   "id": "be40c6e9-cae8-403a-b227-7de37ff908cb",
   "metadata": {
    "tags": []
   },
   "outputs": [
    {
     "data": {
      "text/plain": [
       "{'number': 9000, 'name': 'jacob', 'age': 25, 'city': 'bangalore'}"
      ]
     },
     "execution_count": 40,
     "metadata": {},
     "output_type": "execute_result"
    }
   ],
   "source": [
    "x['name'] = \"jacob\"\n",
    "x"
   ]
  },
  {
   "cell_type": "code",
   "execution_count": 42,
   "id": "e5893c30-5de4-40e1-bd74-727d9fccf9eb",
   "metadata": {
    "tags": []
   },
   "outputs": [],
   "source": [
    "x['age'] = 75"
   ]
  },
  {
   "cell_type": "code",
   "execution_count": 43,
   "id": "ed36cc8c-86fe-4012-9ed6-46f4be768c4e",
   "metadata": {
    "tags": []
   },
   "outputs": [
    {
     "data": {
      "text/plain": [
       "{'number': 9000, 'name': 'jacob', 'age': 75, 'city': 'bangalore'}"
      ]
     },
     "execution_count": 43,
     "metadata": {},
     "output_type": "execute_result"
    }
   ],
   "source": [
    "x"
   ]
  },
  {
   "cell_type": "code",
   "execution_count": 44,
   "id": "acf11d90-5af8-49bd-b4e2-e292d4e00c31",
   "metadata": {
    "tags": []
   },
   "outputs": [
    {
     "data": {
      "text/plain": [
       "4"
      ]
     },
     "execution_count": 44,
     "metadata": {},
     "output_type": "execute_result"
    }
   ],
   "source": [
    "len(x)"
   ]
  },
  {
   "cell_type": "code",
   "execution_count": 45,
   "id": "2f964763-55ac-465f-ad28-8b1e8551fe5e",
   "metadata": {
    "tags": []
   },
   "outputs": [
    {
     "data": {
      "text/plain": [
       "dict_keys(['number', 'name', 'age', 'city'])"
      ]
     },
     "execution_count": 45,
     "metadata": {},
     "output_type": "execute_result"
    }
   ],
   "source": [
    "x.keys()"
   ]
  },
  {
   "cell_type": "code",
   "execution_count": 46,
   "id": "4e39ace9-6347-4809-a029-d6571684aa6a",
   "metadata": {
    "tags": []
   },
   "outputs": [
    {
     "data": {
      "text/plain": [
       "dict_values([9000, 'jacob', 75, 'bangalore'])"
      ]
     },
     "execution_count": 46,
     "metadata": {},
     "output_type": "execute_result"
    }
   ],
   "source": [
    "x.values()"
   ]
  },
  {
   "cell_type": "code",
   "execution_count": 47,
   "id": "aca1fd60-0a4e-480c-a460-ccc377924d39",
   "metadata": {
    "tags": []
   },
   "outputs": [
    {
     "data": {
      "text/plain": [
       "dict_items([('number', 9000), ('name', 'jacob'), ('age', 75), ('city', 'bangalore')])"
      ]
     },
     "execution_count": 47,
     "metadata": {},
     "output_type": "execute_result"
    }
   ],
   "source": [
    "x.items()"
   ]
  },
  {
   "cell_type": "markdown",
   "id": "c0656c88-dafe-4851-b8ec-3c37ab209868",
   "metadata": {},
   "source": [
    "# Data Structures - Python Sets\n",
    "<p> \n",
    "In Python, a set is an unordered and mutable collection of unique elements. Sets are similar to lists and tuples, but they differ in that they do not allow duplicate elements, and the order of elements is not preserved. Sets are defined by enclosing a comma-separated sequence of elements within curly braces {} </p>"
   ]
  },
  {
   "cell_type": "code",
   "execution_count": 48,
   "id": "2c79a25b-2543-4c6a-98e7-52872be21cff",
   "metadata": {
    "tags": []
   },
   "outputs": [
    {
     "name": "stdout",
     "output_type": "stream",
     "text": [
      "{'hello', 'hi', 100, 20, 10, 'welcome', 30}\n"
     ]
    }
   ],
   "source": [
    "my_set = {10,20,30,\"hello\",\"welcome\",100,\"hi\"}\n",
    "print(my_set)"
   ]
  },
  {
   "cell_type": "code",
   "execution_count": 50,
   "id": "0271f71f-72c3-419b-8d6d-802ba6d1d583",
   "metadata": {
    "tags": []
   },
   "outputs": [
    {
     "data": {
      "text/plain": [
       "7"
      ]
     },
     "execution_count": 50,
     "metadata": {},
     "output_type": "execute_result"
    }
   ],
   "source": [
    "len(my_set)"
   ]
  },
  {
   "cell_type": "code",
   "execution_count": 51,
   "id": "75e15f7a-a138-4fd0-bab9-c6bff282f37b",
   "metadata": {
    "tags": []
   },
   "outputs": [
    {
     "name": "stdout",
     "output_type": "stream",
     "text": [
      "{'hello', 'hi', 100, 20, 10, 'welcome', 30}\n"
     ]
    }
   ],
   "source": [
    "my_set = {10,20,30,\"hello\",\"welcome\",100,\"hi\",100,100} # unique values\n",
    "print(my_set)"
   ]
  },
  {
   "cell_type": "code",
   "execution_count": 52,
   "id": "150bb6d7-e31d-4dc0-b7aa-50d40f2a34a0",
   "metadata": {
    "tags": []
   },
   "outputs": [
    {
     "ename": "TypeError",
     "evalue": "'set' object is not subscriptable",
     "output_type": "error",
     "traceback": [
      "\u001b[0;31m---------------------------------------------------------------------------\u001b[0m",
      "\u001b[0;31mTypeError\u001b[0m                                 Traceback (most recent call last)",
      "Cell \u001b[0;32mIn[52], line 1\u001b[0m\n\u001b[0;32m----> 1\u001b[0m my_set[\u001b[38;5;241m0\u001b[39m]\n",
      "\u001b[0;31mTypeError\u001b[0m: 'set' object is not subscriptable"
     ]
    }
   ],
   "source": [
    "my_set[0] #indexing is not supported"
   ]
  },
  {
   "cell_type": "code",
   "execution_count": 53,
   "id": "add7e7a6-b6a8-4d12-9bae-640577f92992",
   "metadata": {
    "tags": []
   },
   "outputs": [
    {
     "data": {
      "text/plain": [
       "True"
      ]
     },
     "execution_count": 53,
     "metadata": {},
     "output_type": "execute_result"
    }
   ],
   "source": [
    "\"hi\" in my_set"
   ]
  },
  {
   "cell_type": "markdown",
   "id": "81609456-1b89-445b-8736-0b119120e05f",
   "metadata": {},
   "source": [
    "# Casting\n",
    "Casting in Python refers to the process of converting one data type into another. \n",
    "- Implicit Casting\n",
    "- Explicit Casting"
   ]
  },
  {
   "cell_type": "code",
   "execution_count": 54,
   "id": "61ffaeed-1215-4167-96b6-73118198ddd8",
   "metadata": {
    "tags": []
   },
   "outputs": [
    {
     "data": {
      "text/plain": [
       "3.0"
      ]
     },
     "execution_count": 54,
     "metadata": {},
     "output_type": "execute_result"
    }
   ],
   "source": [
    "2 * 1.5"
   ]
  },
  {
   "cell_type": "code",
   "execution_count": 55,
   "id": "112ee2be-dd26-4513-8371-e23cd850cfe9",
   "metadata": {
    "tags": []
   },
   "outputs": [
    {
     "data": {
      "text/plain": [
       "3"
      ]
     },
     "execution_count": 55,
     "metadata": {},
     "output_type": "execute_result"
    }
   ],
   "source": [
    "float_number = 3.14\n",
    "integer_number = int(float_number)  # Result: 3\n",
    "integer_number"
   ]
  },
  {
   "cell_type": "code",
   "execution_count": 56,
   "id": "9b786eca-b8b4-4d9a-b28d-60a4b09ed40b",
   "metadata": {
    "tags": []
   },
   "outputs": [
    {
     "data": {
      "text/plain": [
       "42.0"
      ]
     },
     "execution_count": 56,
     "metadata": {},
     "output_type": "execute_result"
    }
   ],
   "source": [
    "integer_number = 42\n",
    "float_number = float(integer_number)  # Result: 42.0\n",
    "float_number"
   ]
  },
  {
   "cell_type": "code",
   "execution_count": 57,
   "id": "aaa780b5-b5e4-4128-b350-543e1d8337fd",
   "metadata": {
    "tags": []
   },
   "outputs": [
    {
     "data": {
      "text/plain": [
       "'123'"
      ]
     },
     "execution_count": 57,
     "metadata": {},
     "output_type": "execute_result"
    }
   ],
   "source": [
    "number = 123\n",
    "string_number = str(number)  # Result: '123'\n",
    "string_number"
   ]
  },
  {
   "cell_type": "code",
   "execution_count": 58,
   "id": "9ad2db62-f364-426e-ad43-dfe1d9d8dcbb",
   "metadata": {
    "tags": []
   },
   "outputs": [
    {
     "data": {
      "text/plain": [
       "[1, 2, 3]"
      ]
     },
     "execution_count": 58,
     "metadata": {},
     "output_type": "execute_result"
    }
   ],
   "source": [
    "my_tuple = (1, 2, 3)\n",
    "list_from_tuple = list(my_tuple)  # Result: [1, 2, 3]\n",
    "list_from_tuple"
   ]
  },
  {
   "cell_type": "code",
   "execution_count": 59,
   "id": "7c4528bb-6bd5-467e-84d9-f348ecaf59ce",
   "metadata": {
    "tags": []
   },
   "outputs": [
    {
     "data": {
      "text/plain": [
       "(4, 5, 6)"
      ]
     },
     "execution_count": 59,
     "metadata": {},
     "output_type": "execute_result"
    }
   ],
   "source": [
    "my_list = [4, 5, 6]\n",
    "tuple_from_list = tuple(my_list)  # Result: (4, 5, 6)\n",
    "tuple_from_list"
   ]
  },
  {
   "cell_type": "code",
   "execution_count": 60,
   "id": "4ca7b49f-ec06-4e26-a905-50a24b192779",
   "metadata": {
    "tags": []
   },
   "outputs": [
    {
     "data": {
      "text/plain": [
       "{1, 2, 3}"
      ]
     },
     "execution_count": 60,
     "metadata": {},
     "output_type": "execute_result"
    }
   ],
   "source": [
    "my_list = [1, 2, 2, 3, 3]\n",
    "set_from_list = set(my_list)  # Result: {1, 2, 3}\n",
    "set_from_list"
   ]
  },
  {
   "cell_type": "markdown",
   "id": "0728e709-a1d8-47f4-abcd-9202b1f6dc4a",
   "metadata": {
    "tags": []
   },
   "source": [
    "# Reading input from user\n",
    "- In Python, you can use the input() function to read input from the user. \n",
    "- The input() function takes a string as an argument, which serves as the prompt displayed to the user. It waits for the user to enter data and press Enter. The entered data is returned as a string."
   ]
  },
  {
   "cell_type": "code",
   "execution_count": 61,
   "id": "0d3a96ed-70ad-47ab-96b0-85e4fd0fa6e3",
   "metadata": {
    "tags": []
   },
   "outputs": [
    {
     "name": "stdout",
     "output_type": "stream",
     "text": [
      "Enter the value to store: 100\n"
     ]
    },
    {
     "name": "stdout",
     "output_type": "stream",
     "text": [
      "output is 100\n"
     ]
    }
   ],
   "source": [
    "user_input = input(\"Enter the value to store:\")\n",
    "print(\"output is\",user_input)"
   ]
  },
  {
   "cell_type": "code",
   "execution_count": 62,
   "id": "baa02186-6878-4bbe-ae95-b59561823d56",
   "metadata": {
    "tags": []
   },
   "outputs": [
    {
     "data": {
      "text/plain": [
       "str"
      ]
     },
     "execution_count": 62,
     "metadata": {},
     "output_type": "execute_result"
    }
   ],
   "source": [
    "type(user_input)"
   ]
  },
  {
   "cell_type": "code",
   "execution_count": 63,
   "id": "3c6d2f2c-1fdb-469f-a19a-18e9be8abd93",
   "metadata": {
    "tags": []
   },
   "outputs": [
    {
     "name": "stdout",
     "output_type": "stream",
     "text": [
      "Enter the number 1:  100\n",
      "Enter the number 2:  200\n"
     ]
    },
    {
     "name": "stdout",
     "output_type": "stream",
     "text": [
      "300\n"
     ]
    }
   ],
   "source": [
    "user_input_1 = int(input(\"Enter the number 1: \"))\n",
    "user_input_2 = int(input(\"Enter the number 2: \"))\n",
    "s = user_input_1 + user_input_2\n",
    "print(s)"
   ]
  },
  {
   "cell_type": "markdown",
   "id": "9323e884-13fb-4d43-999e-57d22465816e",
   "metadata": {},
   "source": [
    "# String Formatting\n",
    "String formatting in Python refers to the ways in which you can create strings with dynamic content, incorporating variables, expressions, or values within a string. "
   ]
  },
  {
   "cell_type": "code",
   "execution_count": 64,
   "id": "89f4696e-6e2e-4ed7-88f0-ac0f5af4b28f",
   "metadata": {
    "tags": []
   },
   "outputs": [
    {
     "name": "stdout",
     "output_type": "stream",
     "text": [
      "the first number is 10 the second number is 20 sum is 30\n"
     ]
    }
   ],
   "source": [
    "x = 10\n",
    "y = 20\n",
    "s = x+y\n",
    "\n",
    "print(\"the first number is\",x,\"the second number is\",y,\"sum is\",s)"
   ]
  },
  {
   "cell_type": "code",
   "execution_count": 65,
   "id": "957c6b7f-d3aa-429a-9491-9cc356ef5d54",
   "metadata": {
    "tags": []
   },
   "outputs": [
    {
     "name": "stdout",
     "output_type": "stream",
     "text": [
      "the first number is 10, the second number is 20, and sum is 30\n"
     ]
    }
   ],
   "source": [
    "#str.format()\n",
    "message = \"the first number is {}, the second number is {}, and sum is {}\".format(x,y,s)\n",
    "print(message)"
   ]
  },
  {
   "cell_type": "code",
   "execution_count": 66,
   "id": "e9893f23-4be2-4f81-9ade-780461503c47",
   "metadata": {
    "tags": []
   },
   "outputs": [
    {
     "name": "stdout",
     "output_type": "stream",
     "text": [
      "the first number is 10, the second number is 20, and sum is 30\n"
     ]
    }
   ],
   "source": [
    "# F-strings\n",
    "message = f\"the first number is {x}, the second number is {y}, and sum is {s}\"\n",
    "print(message)"
   ]
  },
  {
   "cell_type": "markdown",
   "id": "e9516902-35e2-468f-928a-4db18effbf97",
   "metadata": {},
   "source": [
    "# Conditional Statements in Python\n",
    "\n",
    "Conditional statements in Python allow you to execute different blocks of code based on whether a specified condition evaluates to `True` or `False`. The primary constructs for handling conditions in Python are the `if`, `elif` (short for \"else if\"), and `else` statements."
   ]
  },
  {
   "cell_type": "code",
   "execution_count": 67,
   "id": "8c3be199-f02a-4b1a-82c9-43c8983f4644",
   "metadata": {
    "tags": []
   },
   "outputs": [
    {
     "name": "stdout",
     "output_type": "stream",
     "text": [
      "x is positive\n"
     ]
    }
   ],
   "source": [
    "x = 10\n",
    "if x>0:\n",
    "    print(\"x is positive\")"
   ]
  },
  {
   "cell_type": "code",
   "execution_count": 68,
   "id": "53632a02-efb2-43cd-8733-dcfeb3e48f92",
   "metadata": {
    "tags": []
   },
   "outputs": [],
   "source": [
    "x = -10\n",
    "if x>0: # false\n",
    "    print(\"x is positive\")"
   ]
  },
  {
   "cell_type": "code",
   "execution_count": 69,
   "id": "d96638ab-0e95-4ac3-8ccc-296b295f12d9",
   "metadata": {
    "tags": []
   },
   "outputs": [
    {
     "name": "stdout",
     "output_type": "stream",
     "text": [
      "x is less than or equal to 0\n"
     ]
    }
   ],
   "source": [
    "x = -10\n",
    "if x>0: # false\n",
    "    print(\"x is positive\")\n",
    "\n",
    "else:\n",
    "    print(\"x is less than or equal to 0\")"
   ]
  },
  {
   "cell_type": "code",
   "execution_count": 70,
   "id": "0e030f56-c550-4bfa-aef4-9c0b508907af",
   "metadata": {
    "tags": []
   },
   "outputs": [
    {
     "name": "stdout",
     "output_type": "stream",
     "text": [
      "x is zero\n"
     ]
    }
   ],
   "source": [
    "# if..elif..else\n",
    "x = 0\n",
    "\n",
    "if x > 0:1\n",
    "    print(\"x is positive\")\n",
    "elif x == 0:\n",
    "    print(\"x is zero\")\n",
    "else:\n",
    "    print(\"x is negative\")"
   ]
  },
  {
   "cell_type": "code",
   "execution_count": 71,
   "id": "f2ebee58-5132-4edc-aeca-ca6459f99338",
   "metadata": {
    "tags": []
   },
   "outputs": [
    {
     "name": "stdout",
     "output_type": "stream",
     "text": [
      "x is positive\n"
     ]
    }
   ],
   "source": [
    "# if..elif..else\n",
    "x = 10\n",
    "\n",
    "if x > 0:\n",
    "    print(\"x is positive\")\n",
    "elif x == 0:\n",
    "    print(\"x is zero\")\n",
    "else:\n",
    "    print(\"x is negative\")"
   ]
  },
  {
   "cell_type": "markdown",
   "id": "35a89122-fd6b-470b-a419-ccc2b546de6e",
   "metadata": {},
   "source": [
    "# Control Statements : Loops"
   ]
  },
  {
   "cell_type": "markdown",
   "id": "69d4c0e8-7c5c-439e-81cc-9cd067c149bc",
   "metadata": {},
   "source": [
    "Looping statements in Python allow you to repeatedly execute a block of code. The two main types of loops in Python are `for` loops and `while` loops.\n",
    "\n",
    "1. `for` Loop:\n",
    "The for loop is used for iterating over a sequence (such as a list, tuple, string, or range) or other iterable objects.\n",
    "2. `while` Loop:\n",
    "The while loop is used to repeatedly execute a block of code as long as a specified condition is True."
   ]
  },
  {
   "cell_type": "code",
   "execution_count": 72,
   "id": "6dc563a0-66c7-4f71-bc9f-c1e8bd0173a7",
   "metadata": {
    "tags": []
   },
   "outputs": [
    {
     "name": "stdout",
     "output_type": "stream",
     "text": [
      "print something\n",
      "apple\n",
      "print something\n",
      "banana\n",
      "print something\n",
      "cherry\n"
     ]
    }
   ],
   "source": [
    "fruits = [\"apple\",'banana','cherry']\n",
    "\n",
    "for i in fruits:\n",
    "    print(\"print something\")\n",
    "    print(i)"
   ]
  },
  {
   "cell_type": "code",
   "execution_count": 73,
   "id": "9f692710-06bf-4717-b04f-5cff68148045",
   "metadata": {
    "tags": []
   },
   "outputs": [
    {
     "name": "stdout",
     "output_type": "stream",
     "text": [
      "0\n",
      "1\n",
      "2\n"
     ]
    }
   ],
   "source": [
    "count = 0\n",
    "\n",
    "while count<3:\n",
    "    print(count)\n",
    "    count += 1"
   ]
  },
  {
   "cell_type": "markdown",
   "id": "09bb0e54-ee1d-4f81-8924-55fdc3c11775",
   "metadata": {},
   "source": [
    "# Loop Control Statements : break\n",
    "\n",
    "The break statement is used to exit the loop prematurely."
   ]
  },
  {
   "cell_type": "code",
   "execution_count": 74,
   "id": "3d3f0940-5440-4c65-aca6-e5f9f51642c9",
   "metadata": {
    "tags": []
   },
   "outputs": [
    {
     "name": "stdout",
     "output_type": "stream",
     "text": [
      "print something\n",
      "apple\n",
      "print something\n",
      "banana\n"
     ]
    }
   ],
   "source": [
    "fruits = [\"apple\",'banana','cherry']\n",
    "\n",
    "for i in fruits:\n",
    "    print(\"print something\")\n",
    "    print(i)\n",
    "    if i == 'banana':\n",
    "        break"
   ]
  },
  {
   "cell_type": "markdown",
   "id": "db544526-d2fe-4d84-af9a-cb6d217b9af6",
   "metadata": {},
   "source": [
    "# Loop Control Statements : Continue\n",
    "\n",
    "The continue statement is used to skip the rest of the code inside the loop for the current iteration and move to the next iteration."
   ]
  },
  {
   "cell_type": "code",
   "execution_count": 75,
   "id": "843c85ec-3e63-427e-ac37-de950aba5c1c",
   "metadata": {
    "tags": []
   },
   "outputs": [
    {
     "name": "stdout",
     "output_type": "stream",
     "text": [
      "print something\n",
      "apple\n",
      "print something\n",
      "print something\n",
      "cherry\n"
     ]
    }
   ],
   "source": [
    "fruits = [\"apple\",'banana','cherry']\n",
    "\n",
    "for i in fruits:\n",
    "    print(\"print something\")\n",
    "    if i == 'banana':\n",
    "        continue\n",
    "    print(i)"
   ]
  },
  {
   "cell_type": "markdown",
   "id": "60f1ebfc-694d-41bf-a9b8-0da88040d73b",
   "metadata": {},
   "source": [
    "# List Comprehension\n",
    "\n",
    "\n",
    "List comprehension is a concise and expressive way to create lists in Python. It provides a more compact syntax for creating lists by specifying the elements of the list and the conditions under which they should be included. List comprehensions are often used to replace the for loop when creating lists."
   ]
  },
  {
   "cell_type": "markdown",
   "id": "74ad594b-a905-42fb-924d-ff23007769b8",
   "metadata": {},
   "source": [
    "``` python\n",
    "new_list = [expression for item in iterable if condition]\n",
    "\n",
    "```"
   ]
  },
  {
   "cell_type": "code",
   "execution_count": 77,
   "id": "fb6ba91f-e0f2-4534-aaf6-35dc90ba607b",
   "metadata": {
    "tags": []
   },
   "outputs": [
    {
     "name": "stdout",
     "output_type": "stream",
     "text": [
      "[1, 4, 9, 16, 25, 36, 49, 64]\n"
     ]
    }
   ],
   "source": [
    "x = [1,2,3,4,5,6,7,8]\n",
    "\n",
    "result = []\n",
    "for i in x:\n",
    "    result.append(i**2)\n",
    "print(result)"
   ]
  },
  {
   "cell_type": "code",
   "execution_count": 78,
   "id": "a64b1d40-ed99-4354-ab98-e4509582af0b",
   "metadata": {
    "tags": []
   },
   "outputs": [
    {
     "name": "stdout",
     "output_type": "stream",
     "text": [
      "[1, 4, 9, 16, 25, 36, 49, 64]\n"
     ]
    }
   ],
   "source": [
    "x = [1,2,3,4,5,6,7,8]\n",
    "result = [i**2 for i in x ]\n",
    "print(result)"
   ]
  },
  {
   "cell_type": "code",
   "execution_count": 79,
   "id": "e97837b0-1e30-41b0-a40a-be218c232713",
   "metadata": {
    "tags": []
   },
   "outputs": [
    {
     "name": "stdout",
     "output_type": "stream",
     "text": [
      "[4, 16, 36, 64]\n"
     ]
    }
   ],
   "source": [
    "x = [1,2,3,4,5,6,7,8]\n",
    "result = [i**2 for i in x if i%2==0]\n",
    "print(result)"
   ]
  },
  {
   "cell_type": "markdown",
   "id": "83ee9b29-b26f-4575-92f1-f618bb7efd92",
   "metadata": {},
   "source": [
    "# Functions in python\n",
    "\n",
    "\n",
    "In Python, a function is a reusable block of code that performs a specific task. Functions are defined using the def keyword, followed by the function name, a pair of parentheses, and a colon. The function body is indented and contains the code that will be executed when the function is called.\n",
    "\n",
    "```python\n",
    "def function_name(parameter1, parameter2, ...):\n",
    "    # Function body\n",
    "    # Code to perform a specific task\n",
    "    return result  # Optional: Return statement\n",
    "\n",
    "```\n",
    "\n",
    "- Function Name: A descriptive name that follows the rules for variable names. It should be meaningful and convey the purpose of the function.\n",
    "\n",
    "- Parameters: Input values that the function can accept. These are optional; a function can have zero or more parameters.\n",
    "\n",
    "- Function Body: The indented block of code that contains the instructions to be executed when the function is called.\n",
    "\n",
    "- Return Statement: An optional statement that specifies the value(s) the function should return. If a function doesn't have a return statement, it implicitly returns None."
   ]
  },
  {
   "cell_type": "code",
   "execution_count": 80,
   "id": "2881e83b-525d-438b-a9cc-aa7db1b4835d",
   "metadata": {
    "tags": []
   },
   "outputs": [
    {
     "name": "stdout",
     "output_type": "stream",
     "text": [
      "hello world\n"
     ]
    }
   ],
   "source": [
    "print(\"hello world\")"
   ]
  },
  {
   "cell_type": "code",
   "execution_count": 82,
   "id": "2947a634-49c9-49ea-80ec-160b3b272082",
   "metadata": {
    "tags": []
   },
   "outputs": [
    {
     "data": {
      "text/plain": [
       "8"
      ]
     },
     "execution_count": 82,
     "metadata": {},
     "output_type": "execute_result"
    }
   ],
   "source": [
    "x = [1,2,3,4,5,6,7,8]\n",
    "len(x)"
   ]
  },
  {
   "cell_type": "code",
   "execution_count": 83,
   "id": "06110b9a-eb99-4040-a306-5643fbd44f4a",
   "metadata": {
    "tags": []
   },
   "outputs": [],
   "source": [
    "x.append(10)"
   ]
  },
  {
   "cell_type": "code",
   "execution_count": 84,
   "id": "b41d4da7-94f3-4157-81dd-a9e24f600249",
   "metadata": {
    "tags": []
   },
   "outputs": [
    {
     "data": {
      "text/plain": [
       "[1, 2, 3, 4, 5, 6, 7, 8, 10]"
      ]
     },
     "execution_count": 84,
     "metadata": {},
     "output_type": "execute_result"
    }
   ],
   "source": [
    "x"
   ]
  },
  {
   "cell_type": "code",
   "execution_count": 85,
   "id": "a175a5e8-065e-4a19-846b-44f656ee0869",
   "metadata": {
    "tags": []
   },
   "outputs": [],
   "source": [
    "def greet(name):\n",
    "    print(f\"Hello {name}!!\")"
   ]
  },
  {
   "cell_type": "code",
   "execution_count": 86,
   "id": "e4b60edb-c883-4858-a2b6-51eb4ace6c9e",
   "metadata": {
    "tags": []
   },
   "outputs": [
    {
     "name": "stdout",
     "output_type": "stream",
     "text": [
      "Hello Alice!!\n"
     ]
    }
   ],
   "source": [
    "greet(\"Alice\")"
   ]
  },
  {
   "cell_type": "code",
   "execution_count": 87,
   "id": "14e09db4-dfa3-479a-b033-0f9e44dfc0fb",
   "metadata": {
    "tags": []
   },
   "outputs": [
    {
     "name": "stdout",
     "output_type": "stream",
     "text": [
      "Hello Jacob!!\n"
     ]
    }
   ],
   "source": [
    "out = greet(\"Jacob\")"
   ]
  },
  {
   "cell_type": "code",
   "execution_count": 88,
   "id": "8563b344-6f68-47c7-a3e2-13e963a051c2",
   "metadata": {
    "tags": []
   },
   "outputs": [
    {
     "name": "stdout",
     "output_type": "stream",
     "text": [
      "None\n"
     ]
    }
   ],
   "source": [
    "print(out)"
   ]
  },
  {
   "cell_type": "code",
   "execution_count": 89,
   "id": "c3996c55-db94-40ee-9c59-1a2d79538f30",
   "metadata": {
    "tags": []
   },
   "outputs": [],
   "source": [
    "def add_numbers(a,b):\n",
    "    result = a+b\n",
    "    return result"
   ]
  },
  {
   "cell_type": "code",
   "execution_count": 90,
   "id": "ebc5b8ad-cbe6-41d6-8877-eef3f8a8ef47",
   "metadata": {
    "tags": []
   },
   "outputs": [],
   "source": [
    "out = add_numbers(10,12)"
   ]
  },
  {
   "cell_type": "code",
   "execution_count": 91,
   "id": "b9423230-a4f5-42de-a741-ac3ba652f10b",
   "metadata": {
    "tags": []
   },
   "outputs": [
    {
     "name": "stdout",
     "output_type": "stream",
     "text": [
      "22\n"
     ]
    }
   ],
   "source": [
    "print(out)"
   ]
  },
  {
   "cell_type": "code",
   "execution_count": 92,
   "id": "bc826d14-6576-4243-837b-81c125433344",
   "metadata": {
    "tags": []
   },
   "outputs": [
    {
     "ename": "TypeError",
     "evalue": "add_numbers() missing 1 required positional argument: 'b'",
     "output_type": "error",
     "traceback": [
      "\u001b[0;31m---------------------------------------------------------------------------\u001b[0m",
      "\u001b[0;31mTypeError\u001b[0m                                 Traceback (most recent call last)",
      "Cell \u001b[0;32mIn[92], line 1\u001b[0m\n\u001b[0;32m----> 1\u001b[0m add_numbers(\u001b[38;5;241m1\u001b[39m)\n",
      "\u001b[0;31mTypeError\u001b[0m: add_numbers() missing 1 required positional argument: 'b'"
     ]
    }
   ],
   "source": [
    "add_numbers(1)"
   ]
  },
  {
   "cell_type": "code",
   "execution_count": 93,
   "id": "29519ceb-2be1-476d-b8f7-0bb568d56a40",
   "metadata": {
    "tags": []
   },
   "outputs": [],
   "source": [
    "out = add_numbers(b=10,a=12)"
   ]
  },
  {
   "cell_type": "code",
   "execution_count": 94,
   "id": "b8ad1b3a-d97c-42a0-98ad-a65a0cb508ec",
   "metadata": {
    "tags": []
   },
   "outputs": [
    {
     "data": {
      "text/plain": [
       "22"
      ]
     },
     "execution_count": 94,
     "metadata": {},
     "output_type": "execute_result"
    }
   ],
   "source": [
    "out"
   ]
  },
  {
   "cell_type": "code",
   "execution_count": 95,
   "id": "f1330c42-b84f-4978-bd78-1ac8c1b964b3",
   "metadata": {
    "tags": []
   },
   "outputs": [],
   "source": [
    "def add_numbers(a,b=25):\n",
    "    result = a+b\n",
    "    return result"
   ]
  },
  {
   "cell_type": "code",
   "execution_count": 96,
   "id": "5ee53dd1-245e-45b7-9312-ccc58a0e337e",
   "metadata": {
    "tags": []
   },
   "outputs": [
    {
     "data": {
      "text/plain": [
       "35"
      ]
     },
     "execution_count": 96,
     "metadata": {},
     "output_type": "execute_result"
    }
   ],
   "source": [
    "add_numbers(10)"
   ]
  },
  {
   "cell_type": "code",
   "execution_count": 97,
   "id": "2798b77c-7f8b-46e0-a9d1-633f7e6530a5",
   "metadata": {
    "tags": []
   },
   "outputs": [],
   "source": [
    "def add_numbers(a=5,b=25):\n",
    "    result = a+b\n",
    "    return result"
   ]
  },
  {
   "cell_type": "code",
   "execution_count": 98,
   "id": "944add66-e8aa-48d8-bb4c-ffb278d58800",
   "metadata": {
    "tags": []
   },
   "outputs": [
    {
     "data": {
      "text/plain": [
       "30"
      ]
     },
     "execution_count": 98,
     "metadata": {},
     "output_type": "execute_result"
    }
   ],
   "source": [
    "add_numbers()"
   ]
  },
  {
   "cell_type": "markdown",
   "id": "02a557ca-37f9-4768-a9a6-04c6bc282956",
   "metadata": {},
   "source": [
    "# Modules in Python "
   ]
  },
  {
   "cell_type": "code",
   "execution_count": 99,
   "id": "5e57dd2d-78f0-416e-933f-dda46a81f286",
   "metadata": {
    "tags": []
   },
   "outputs": [],
   "source": [
    "import my_module"
   ]
  },
  {
   "cell_type": "code",
   "execution_count": 100,
   "id": "fe3e4a1a-4e57-4aca-b659-b070e6a07611",
   "metadata": {
    "tags": []
   },
   "outputs": [
    {
     "name": "stdout",
     "output_type": "stream",
     "text": [
      "Hey!! welcome to the class John\n"
     ]
    }
   ],
   "source": [
    "my_module.my_greet(\"John\")"
   ]
  },
  {
   "cell_type": "code",
   "execution_count": 101,
   "id": "d8971f1d-35a7-41ca-9d44-500e6d4fb3c8",
   "metadata": {
    "tags": []
   },
   "outputs": [
    {
     "data": {
      "text/plain": [
       "25"
      ]
     },
     "execution_count": 101,
     "metadata": {},
     "output_type": "execute_result"
    }
   ],
   "source": [
    "my_module.age"
   ]
  },
  {
   "cell_type": "code",
   "execution_count": 102,
   "id": "06bcb24b-51ba-4eeb-aaab-5d4baefa4abe",
   "metadata": {
    "tags": []
   },
   "outputs": [],
   "source": [
    "from my_module import my_greet"
   ]
  },
  {
   "cell_type": "code",
   "execution_count": 103,
   "id": "f3f26a96-0102-469e-a406-0914c4762df1",
   "metadata": {
    "tags": []
   },
   "outputs": [
    {
     "name": "stdout",
     "output_type": "stream",
     "text": [
      "Hey!! welcome to the class alice\n"
     ]
    }
   ],
   "source": [
    "my_greet(\"alice\")"
   ]
  },
  {
   "cell_type": "code",
   "execution_count": 104,
   "id": "baa8158c-f5a8-4203-bd75-d1c09208cb2c",
   "metadata": {
    "tags": []
   },
   "outputs": [],
   "source": [
    "import math"
   ]
  },
  {
   "cell_type": "code",
   "execution_count": 105,
   "id": "d930293a-bb5b-44e0-9407-e471c42089f5",
   "metadata": {
    "tags": []
   },
   "outputs": [
    {
     "data": {
      "text/plain": [
       "10.0"
      ]
     },
     "execution_count": 105,
     "metadata": {},
     "output_type": "execute_result"
    }
   ],
   "source": [
    "math.sqrt(100)"
   ]
  },
  {
   "cell_type": "markdown",
   "id": "e84c0441-c3b5-4c39-9a0f-0a5a9a35fd2e",
   "metadata": {},
   "source": [
    "# Classes in Python\n",
    "\n",
    "In Python, a class is a blueprint for creating objects, providing a way to model and structure code in an object-oriented programming (OOP) paradigm. Objects are instances of a class, and classes define attributes (characteristics) and methods (functions) that the objects created from them can have.\n",
    "\n",
    "```python\n",
    "class MyClass:\n",
    "    # Class variable\n",
    "    class_variable = \"I am a class variable\"\n",
    "\n",
    "    # Constructor (initializer) method\n",
    "    def __init__(self, attribute1, attribute2):\n",
    "        # Instance variables\n",
    "        self.attribute1 = attribute1\n",
    "        self.attribute2 = attribute2\n",
    "\n",
    "    # Instance method\n",
    "    def display_attributes(self):\n",
    "        print(f\"Attribute 1: {self.attribute1}\")\n",
    "        print(f\"Attribute 2: {self.attribute2}\")\n",
    "\n",
    "    # Another instance method\n",
    "    def modify_attributes(self, new_value1, new_value2):\n",
    "        self.attribute1 = new_value1\n",
    "        self.attribute2 = new_value2\n",
    "\n",
    "```\n",
    "\n",
    "Let's break down the components of this class:\n",
    "\n",
    "- Class Keyword: Used to define a class.\n",
    "\n",
    "- Class Name (Identifier): The name of the class follows the class keyword.\n",
    "\n",
    "- Attributes: Variables that store data associated with the class or its instances.\n",
    "\n",
    "- Methods: Functions that perform actions related to the class or its instances.\n",
    "\n",
    "- Constructor (__init__): A special method used for initializing the object. It is executed when an object is created.\n",
    "\n",
    "- Self: A reference to the instance of the class. It is the first parameter of every method in a class and refers to the instance of the class.\n",
    "\n",
    "## Create Objects from Class\n",
    "\n",
    "```python\n",
    "# Creating objects\n",
    "obj1 = MyClass(\"Value1\", \"Value2\")\n",
    "obj2 = MyClass(\"AnotherValue1\", \"AnotherValue2\")\n",
    "\n",
    "# Accessing attributes and methods\n",
    "print(obj1.attribute1)\n",
    "obj2.display_attributes()\n",
    "\n",
    "# Modifying attributes\n",
    "obj1.modify_attributes(\"NewValue1\", \"NewValue2\")\n",
    "obj1.display_attributes()\n",
    "\n",
    "```\n",
    "In the above example, two objects (obj1 and obj2) are created from the `MyClass` class. Attributes and methods of the objects are accessed using dot notation."
   ]
  },
  {
   "cell_type": "code",
   "execution_count": 106,
   "id": "63ff3f37-c290-42b3-bd90-0d7f0b93b770",
   "metadata": {
    "tags": []
   },
   "outputs": [],
   "source": [
    "class MyClass:\n",
    "    # Class variable\n",
    "    class_variable = \"I am a class variable\"\n",
    "\n",
    "    # Constructor (initializer) method\n",
    "    def __init__(self, attribute1, attribute2):\n",
    "        # Instance variables\n",
    "        self.attribute1 = attribute1\n",
    "        self.attribute2 = attribute2\n",
    "\n",
    "    # Instance method\n",
    "    def display_attributes(self):\n",
    "        print(f\"Attribute 1: {self.attribute1}\")\n",
    "        print(f\"Attribute 2: {self.attribute2}\")\n",
    "\n",
    "    # Another instance method\n",
    "    def modify_attributes(self, new_value1, new_value2):\n",
    "        self.attribute1 = new_value1\n",
    "        self.attribute2 = new_value2"
   ]
  },
  {
   "cell_type": "code",
   "execution_count": 108,
   "id": "ffa95fa1-2122-4494-9c69-8525b358aaba",
   "metadata": {
    "tags": []
   },
   "outputs": [],
   "source": [
    "obj1 = MyClass(\"jacob\",\"john\")"
   ]
  },
  {
   "cell_type": "code",
   "execution_count": 109,
   "id": "f5680088-3b5d-42e5-9b2a-4ee54c0ae352",
   "metadata": {
    "tags": []
   },
   "outputs": [
    {
     "data": {
      "text/plain": [
       "'jacob'"
      ]
     },
     "execution_count": 109,
     "metadata": {},
     "output_type": "execute_result"
    }
   ],
   "source": [
    "obj1.attribute1"
   ]
  },
  {
   "cell_type": "code",
   "execution_count": 110,
   "id": "7db95b42-86af-477e-9ade-bdcdab55e39f",
   "metadata": {
    "tags": []
   },
   "outputs": [
    {
     "data": {
      "text/plain": [
       "'john'"
      ]
     },
     "execution_count": 110,
     "metadata": {},
     "output_type": "execute_result"
    }
   ],
   "source": [
    "obj1.attribute2"
   ]
  },
  {
   "cell_type": "code",
   "execution_count": 111,
   "id": "80747d9f-275c-4fb1-a06e-f1784424d7e5",
   "metadata": {
    "tags": []
   },
   "outputs": [
    {
     "name": "stdout",
     "output_type": "stream",
     "text": [
      "Attribute 1: jacob\n",
      "Attribute 2: john\n"
     ]
    }
   ],
   "source": [
    "obj1.display_attributes()"
   ]
  },
  {
   "cell_type": "code",
   "execution_count": 112,
   "id": "18be1ab4-528a-46ad-a5e4-3c3921426521",
   "metadata": {
    "tags": []
   },
   "outputs": [],
   "source": [
    "obj1.modify_attributes(\"sandy\",\"deepti\")"
   ]
  },
  {
   "cell_type": "code",
   "execution_count": 113,
   "id": "7bbc6322-37e5-40f7-add9-81a40b3614f7",
   "metadata": {
    "tags": []
   },
   "outputs": [
    {
     "name": "stdout",
     "output_type": "stream",
     "text": [
      "Attribute 1: sandy\n",
      "Attribute 2: deepti\n"
     ]
    }
   ],
   "source": [
    "obj1.display_attributes()"
   ]
  },
  {
   "cell_type": "markdown",
   "id": "1b7139fa-524b-4b88-9df5-9cf1c33cc442",
   "metadata": {},
   "source": [
    "# File handling in Python"
   ]
  },
  {
   "cell_type": "markdown",
   "id": "a9612be5-0666-4982-bd26-e0ba116eafaa",
   "metadata": {},
   "source": [
    "*fileobj = open(filename,mode)*\n",
    "\n",
    "- fileobj - file object returned by `open()`\n",
    "- filename - String name of the file\n",
    "- mode - string indicating the file's type and what we want to perform\n",
    "\n",
    "\n",
    "First Letter of *mode* indicates the operation :\n",
    "* **r** means read\n",
    "* **w** means write. If the file doesn't exist, it will be created. If already exists it will be over-written\n",
    "* **x** means write, but only if file doesn't exist\n",
    "* **a** means append (write after the end) if the file exists.\n",
    "\n",
    "Second letter of *mode* is file's type:\n",
    "- **t** (or nothing) means text\n",
    "- **b** means binary\n",
    "\n",
    "*close* the file once write is complete.\n",
    "fileobj.close()"
   ]
  },
  {
   "cell_type": "code",
   "execution_count": 114,
   "id": "69d5addf-e0f2-44e2-ac6f-4104afd794d2",
   "metadata": {
    "tags": []
   },
   "outputs": [],
   "source": [
    "fileobj = open(\"example.txt\",\"wt\")\n",
    "fileobj.close()"
   ]
  },
  {
   "cell_type": "code",
   "execution_count": 115,
   "id": "51518a89-b36c-44d1-9c19-c735dd7d6fd9",
   "metadata": {
    "tags": []
   },
   "outputs": [],
   "source": [
    "example_text = \"\"\"fileobj = open(filename,mode)\n",
    "\n",
    "    fileobj - file object returned by open()\n",
    "    filename - String name of the file\n",
    "    mode - string indicating the file's type and what we want to perform\n",
    "\n",
    "First Letter of mode indicates the operation :\n",
    "\n",
    "    r means read\n",
    "    w means write. If the file doesn't exist, it will be created. If already exists it will be over-written\n",
    "    x means write, but only if file doesn't exist\n",
    "    a means append (write after the end) if the file exists.\n",
    "\n",
    "Second letter of mode is file's type:\n",
    "\n",
    "    t (or nothing) means text\n",
    "    b means binary\n",
    "\n",
    "close the file once write is complete. fileobj.close()\n",
    "\"\"\""
   ]
  },
  {
   "cell_type": "code",
   "execution_count": 116,
   "id": "88681fb7-c49e-418c-b03a-352191ce6362",
   "metadata": {
    "tags": []
   },
   "outputs": [],
   "source": [
    "fileobj = open(\"example.txt\",\"wt\")\n",
    "fileobj.write(example_text)\n",
    "fileobj.close()"
   ]
  },
  {
   "cell_type": "code",
   "execution_count": 117,
   "id": "8aa4a58b-674b-4bc0-b055-cfafa48ebbf0",
   "metadata": {
    "tags": []
   },
   "outputs": [],
   "source": [
    "file_obj = open(\"example.txt\",\"wt\")\n",
    "file_obj.close()"
   ]
  },
  {
   "cell_type": "code",
   "execution_count": 118,
   "id": "e4ae12a8-288a-4fdc-a789-286d5cf893dd",
   "metadata": {
    "tags": []
   },
   "outputs": [
    {
     "ename": "FileExistsError",
     "evalue": "[Errno 17] File exists: 'example.txt'",
     "output_type": "error",
     "traceback": [
      "\u001b[0;31m---------------------------------------------------------------------------\u001b[0m",
      "\u001b[0;31mFileExistsError\u001b[0m                           Traceback (most recent call last)",
      "Cell \u001b[0;32mIn[118], line 1\u001b[0m\n\u001b[0;32m----> 1\u001b[0m fileobj \u001b[38;5;241m=\u001b[39m \u001b[38;5;28mopen\u001b[39m(\u001b[38;5;124m'\u001b[39m\u001b[38;5;124mexample.txt\u001b[39m\u001b[38;5;124m'\u001b[39m,\u001b[38;5;124m'\u001b[39m\u001b[38;5;124mxt\u001b[39m\u001b[38;5;124m'\u001b[39m)\n\u001b[1;32m      2\u001b[0m fileobj\u001b[38;5;241m.\u001b[39mclose()\n",
      "File \u001b[0;32m~/anaconda3/lib/python3.11/site-packages/IPython/core/interactiveshell.py:284\u001b[0m, in \u001b[0;36m_modified_open\u001b[0;34m(file, *args, **kwargs)\u001b[0m\n\u001b[1;32m    277\u001b[0m \u001b[38;5;28;01mif\u001b[39;00m file \u001b[38;5;129;01min\u001b[39;00m {\u001b[38;5;241m0\u001b[39m, \u001b[38;5;241m1\u001b[39m, \u001b[38;5;241m2\u001b[39m}:\n\u001b[1;32m    278\u001b[0m     \u001b[38;5;28;01mraise\u001b[39;00m \u001b[38;5;167;01mValueError\u001b[39;00m(\n\u001b[1;32m    279\u001b[0m         \u001b[38;5;124mf\u001b[39m\u001b[38;5;124m\"\u001b[39m\u001b[38;5;124mIPython won\u001b[39m\u001b[38;5;124m'\u001b[39m\u001b[38;5;124mt let you open fd=\u001b[39m\u001b[38;5;132;01m{\u001b[39;00mfile\u001b[38;5;132;01m}\u001b[39;00m\u001b[38;5;124m by default \u001b[39m\u001b[38;5;124m\"\u001b[39m\n\u001b[1;32m    280\u001b[0m         \u001b[38;5;124m\"\u001b[39m\u001b[38;5;124mas it is likely to crash IPython. If you know what you are doing, \u001b[39m\u001b[38;5;124m\"\u001b[39m\n\u001b[1;32m    281\u001b[0m         \u001b[38;5;124m\"\u001b[39m\u001b[38;5;124myou can use builtins\u001b[39m\u001b[38;5;124m'\u001b[39m\u001b[38;5;124m open.\u001b[39m\u001b[38;5;124m\"\u001b[39m\n\u001b[1;32m    282\u001b[0m     )\n\u001b[0;32m--> 284\u001b[0m \u001b[38;5;28;01mreturn\u001b[39;00m io_open(file, \u001b[38;5;241m*\u001b[39margs, \u001b[38;5;241m*\u001b[39m\u001b[38;5;241m*\u001b[39mkwargs)\n",
      "\u001b[0;31mFileExistsError\u001b[0m: [Errno 17] File exists: 'example.txt'"
     ]
    }
   ],
   "source": [
    "fileobj = open('example.txt','xt')\n",
    "fileobj.close()"
   ]
  },
  {
   "cell_type": "code",
   "execution_count": 119,
   "id": "b8c8d050-1dd0-46e5-8552-45dfa2cbe767",
   "metadata": {
    "tags": []
   },
   "outputs": [],
   "source": [
    "fileobj = open('example_2.txt','xt')\n",
    "fileobj.close()"
   ]
  },
  {
   "cell_type": "code",
   "execution_count": 120,
   "id": "4f054ea6-416b-46b9-ba33-e2cd167499e9",
   "metadata": {
    "tags": []
   },
   "outputs": [],
   "source": [
    "f = open('example.txt','wt')\n",
    "f.write(example_text)\n",
    "f.close()"
   ]
  },
  {
   "cell_type": "code",
   "execution_count": 121,
   "id": "68a46abd-850e-4d46-8c05-37e75468ad34",
   "metadata": {
    "tags": []
   },
   "outputs": [],
   "source": [
    "fileobj = open(\"example.txt\",'rt')\n",
    "data = fileobj.read()\n",
    "fileobj.close()"
   ]
  },
  {
   "cell_type": "code",
   "execution_count": 122,
   "id": "1e61770c-64cb-4e26-b119-2aa6617b1645",
   "metadata": {
    "tags": []
   },
   "outputs": [
    {
     "name": "stdout",
     "output_type": "stream",
     "text": [
      "fileobj = open(filename,mode)\n",
      "\n",
      "    fileobj - file object returned by open()\n",
      "    filename - String name of the file\n",
      "    mode - string indicating the file's type and what we want to perform\n",
      "\n",
      "First Letter of mode indicates the operation :\n",
      "\n",
      "    r means read\n",
      "    w means write. If the file doesn't exist, it will be created. If already exists it will be over-written\n",
      "    x means write, but only if file doesn't exist\n",
      "    a means append (write after the end) if the file exists.\n",
      "\n",
      "Second letter of mode is file's type:\n",
      "\n",
      "    t (or nothing) means text\n",
      "    b means binary\n",
      "\n",
      "close the file once write is complete. fileobj.close()\n",
      "\n"
     ]
    }
   ],
   "source": [
    "print(data)"
   ]
  },
  {
   "cell_type": "markdown",
   "id": "bcf4c682-cc2c-4232-bce2-d914ba867fa6",
   "metadata": {},
   "source": [
    "# Escape Characters"
   ]
  },
  {
   "cell_type": "markdown",
   "id": "d2abc489-d5c9-4db2-8f12-52849a473473",
   "metadata": {},
   "source": [
    "1. \\n: Newline character"
   ]
  },
  {
   "cell_type": "code",
   "execution_count": 123,
   "id": "e3b85ed4-50dc-4d2e-b878-e64e3f3b493f",
   "metadata": {
    "tags": []
   },
   "outputs": [
    {
     "name": "stdout",
     "output_type": "stream",
     "text": [
      "hello \n",
      " world\n"
     ]
    }
   ],
   "source": [
    "print(\"hello \\n world\")"
   ]
  },
  {
   "cell_type": "code",
   "execution_count": 124,
   "id": "2479fdfe-2384-463d-b813-23446fcdecba",
   "metadata": {
    "tags": []
   },
   "outputs": [
    {
     "name": "stdout",
     "output_type": "stream",
     "text": [
      "hello\tworld\n"
     ]
    }
   ],
   "source": [
    "# \\t --> tab character\n",
    "print(\"hello\\tworld\")"
   ]
  },
  {
   "cell_type": "code",
   "execution_count": 125,
   "id": "dbdb1e7d-6585-47da-8943-34d591053705",
   "metadata": {
    "tags": []
   },
   "outputs": [
    {
     "name": "stdout",
     "output_type": "stream",
     "text": [
      "hello\\world\n"
     ]
    }
   ],
   "source": [
    "# \\\\ --> backslash\n",
    "print(\"hello\\\\world\")"
   ]
  },
  {
   "cell_type": "markdown",
   "id": "7371a2cf-017e-43a1-9b01-888eb025b7eb",
   "metadata": {},
   "source": [
    "# Working with Python Scripts"
   ]
  },
  {
   "cell_type": "code",
   "execution_count": null,
   "id": "86f21779-f75e-4a7b-a5b0-55090e8ecdda",
   "metadata": {},
   "outputs": [],
   "source": [
    "# create file with .py extension and execute"
   ]
  },
  {
   "cell_type": "markdown",
   "id": "f4e4592e-c19a-41e1-ba76-2f97f93ae3ca",
   "metadata": {},
   "source": [
    "# Libraries in Python\n",
    "\n",
    "<p> \n",
    "In Python, a library is a collection of modules that provides pre-written and reusable code to perform specific tasks. \n",
    "\n",
    "Libraries simplify development by offering a set of functions, classes, and methods that you can use in your Python programs without having to implement everything from scratch. \n",
    "    Python has a rich ecosystem of libraries that cover a wide range of domains, including data science, web development, machine learning, scientific computing, and more.</p>"
   ]
  },
  {
   "cell_type": "code",
   "execution_count": 126,
   "id": "68fa143f-3b6e-4d25-9198-d6585c7f3a4c",
   "metadata": {
    "tags": []
   },
   "outputs": [],
   "source": [
    "import pandas as pd"
   ]
  },
  {
   "cell_type": "code",
   "execution_count": null,
   "id": "4919a1ec-7815-4d6b-b993-b898506e4fae",
   "metadata": {},
   "outputs": [],
   "source": [
    "# pd.read_csv(\"dataset.csv\")"
   ]
  }
 ],
 "metadata": {
  "kernelspec": {
   "display_name": "Python 3 (ipykernel)",
   "language": "python",
   "name": "python3"
  },
  "language_info": {
   "codemirror_mode": {
    "name": "ipython",
    "version": 3
   },
   "file_extension": ".py",
   "mimetype": "text/x-python",
   "name": "python",
   "nbconvert_exporter": "python",
   "pygments_lexer": "ipython3",
   "version": "3.7.12"
  }
 },
 "nbformat": 4,
 "nbformat_minor": 5
}
