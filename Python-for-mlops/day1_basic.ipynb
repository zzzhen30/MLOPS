{
 "cells": [
  {
   "cell_type": "code",
   "execution_count": 2,
   "metadata": {},
   "outputs": [
    {
     "name": "stdout",
     "output_type": "stream",
     "text": [
      "output is: 2\n"
     ]
    }
   ],
   "source": [
    "user_input = input('enter value:')\n",
    "print('output is:', user_input)"
   ]
  },
  {
   "cell_type": "code",
   "execution_count": 3,
   "metadata": {},
   "outputs": [
    {
     "data": {
      "text/plain": [
       "str"
      ]
     },
     "execution_count": 3,
     "metadata": {},
     "output_type": "execute_result"
    }
   ],
   "source": [
    "type(user_input)"
   ]
  },
  {
   "cell_type": "code",
   "execution_count": 4,
   "metadata": {},
   "outputs": [
    {
     "name": "stdout",
     "output_type": "stream",
     "text": [
      "6\n"
     ]
    }
   ],
   "source": [
    "user_input1 = int(input('type int 1:'))\n",
    "user_input2 = int(input('type int 2:'))\n",
    "s = user_input1 + user_input2\n",
    "print(s)"
   ]
  },
  {
   "cell_type": "code",
   "execution_count": 5,
   "metadata": {},
   "outputs": [
    {
     "name": "stdout",
     "output_type": "stream",
     "text": [
      "the first val 10, second val 20, sum is 30\n"
     ]
    }
   ],
   "source": [
    "# str.format()\n",
    "x=10\n",
    "y=20\n",
    "s = x+y\n",
    "message = 'the first val {}, second val {}, sum is {}'.format(x,y,s)\n",
    "print(message)"
   ]
  },
  {
   "cell_type": "code",
   "execution_count": 6,
   "metadata": {},
   "outputs": [
    {
     "name": "stdout",
     "output_type": "stream",
     "text": [
      "the first val 10, second val 20, sum is 30\n"
     ]
    }
   ],
   "source": [
    "# f-strings\n",
    "message = f'the first val {x}, second val {y}, sum is {s}'\n",
    "print(message)\n"
   ]
  },
  {
   "cell_type": "code",
   "execution_count": 9,
   "metadata": {},
   "outputs": [
    {
     "name": "stdout",
     "output_type": "stream",
     "text": [
      "x is 0\n"
     ]
    }
   ],
   "source": [
    "# control statement: conditional statement, loopping statement\n",
    "x = 0\n",
    "if x > 0:\n",
    "    print('x is positive')\n",
    "elif x == 0:\n",
    "    print('x is 0')\n",
    "else:\n",
    "    print('x is negative')"
   ]
  },
  {
   "cell_type": "code",
   "execution_count": 10,
   "metadata": {},
   "outputs": [
    {
     "name": "stdout",
     "output_type": "stream",
     "text": [
      "print somthing\n",
      "apple\n",
      "print somthing\n",
      "bana\n",
      "print somthing\n",
      "cherry\n"
     ]
    }
   ],
   "source": [
    "# loops: for loop and while loop\n",
    "fruits= ['apple','bana','cherry']\n",
    "\n",
    "for i in fruits:\n",
    "    print('print somthing')\n",
    "    print(i)"
   ]
  },
  {
   "cell_type": "code",
   "execution_count": 11,
   "metadata": {},
   "outputs": [
    {
     "name": "stdout",
     "output_type": "stream",
     "text": [
      "0\n",
      "1\n",
      "2\n"
     ]
    }
   ],
   "source": [
    "count = 0\n",
    "\n",
    "while count<3:\n",
    "    print(count)\n",
    "    count += 1"
   ]
  },
  {
   "cell_type": "code",
   "execution_count": 12,
   "metadata": {},
   "outputs": [
    {
     "name": "stdout",
     "output_type": "stream",
     "text": [
      "print somthing\n",
      "apple\n",
      "print somthing\n",
      "bana\n"
     ]
    }
   ],
   "source": [
    "# loop control statement : break\n",
    "\n",
    "fruits= ['apple','bana','cherry']\n",
    "\n",
    "for i in fruits:\n",
    "    print('print somthing')\n",
    "    print(i)\n",
    "    if i == 'bana':\n",
    "        break\n"
   ]
  },
  {
   "cell_type": "code",
   "execution_count": 13,
   "metadata": {},
   "outputs": [
    {
     "name": "stdout",
     "output_type": "stream",
     "text": [
      "print somthing\n",
      "apple\n",
      "print somthing\n",
      "print somthing\n",
      "cherry\n"
     ]
    }
   ],
   "source": [
    "# continue statement\n",
    "\n",
    "fruits= ['apple','bana','cherry']\n",
    "\n",
    "for i in fruits:\n",
    "    print('print somthing')\n",
    "    if i == 'bana':\n",
    "        continue\n",
    "    print(i)"
   ]
  },
  {
   "cell_type": "code",
   "execution_count": 15,
   "metadata": {},
   "outputs": [
    {
     "name": "stdout",
     "output_type": "stream",
     "text": [
      "[1, 4, 9]\n"
     ]
    }
   ],
   "source": [
    "# List comprehension \n",
    "\n",
    "x=[1,2,3]\n",
    "result = []\n",
    "for i in x:\n",
    "    result.append(i**2)\n",
    "print(result)"
   ]
  },
  {
   "cell_type": "code",
   "execution_count": 16,
   "metadata": {},
   "outputs": [
    {
     "name": "stdout",
     "output_type": "stream",
     "text": [
      "[1, 4, 9]\n"
     ]
    }
   ],
   "source": [
    "# change above to List comprehension \n",
    "x=[1,2,3]\n",
    "result = [i**2 for i in x]\n",
    "print(result)"
   ]
  },
  {
   "cell_type": "code",
   "execution_count": 18,
   "metadata": {},
   "outputs": [
    {
     "name": "stdout",
     "output_type": "stream",
     "text": [
      "[1, 9]\n"
     ]
    }
   ],
   "source": [
    "x=[1,2,3]\n",
    "result = [i**2 for i in x if i%2!=0]\n",
    "print(result)"
   ]
  },
  {
   "cell_type": "code",
   "execution_count": 23,
   "metadata": {},
   "outputs": [
    {
     "name": "stdout",
     "output_type": "stream",
     "text": [
      "hello jt!!\n",
      "8\n",
      "12\n"
     ]
    }
   ],
   "source": [
    "# function in python \n",
    "\n",
    "def greet(name):\n",
    "    print(f'hello {name}!!')\n",
    "\n",
    "greet('jt')\n",
    "\n",
    "def add_num(a,b):\n",
    "    result=a+b\n",
    "    return result\n",
    "\n",
    "out = add_num(2,6)\n",
    "print(out)\n",
    "\n",
    "out2 = add_num(b=10, a=2)\n",
    "print(out2)"
   ]
  },
  {
   "cell_type": "markdown",
   "metadata": {},
   "source": []
  }
 ],
 "metadata": {
  "kernelspec": {
   "display_name": "new_env",
   "language": "python",
   "name": "python3"
  },
  "language_info": {
   "codemirror_mode": {
    "name": "ipython",
    "version": 3
   },
   "file_extension": ".py",
   "mimetype": "text/x-python",
   "name": "python",
   "nbconvert_exporter": "python",
   "pygments_lexer": "ipython3",
   "version": "3.7.12"
  }
 },
 "nbformat": 4,
 "nbformat_minor": 2
}
