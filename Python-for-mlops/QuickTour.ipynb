{
 "cells": [
  {
   "cell_type": "code",
   "execution_count": 1,
   "id": "4d8476a9-0d97-4edd-847a-e569214a72b1",
   "metadata": {
    "tags": []
   },
   "outputs": [
    {
     "name": "stdout",
     "output_type": "stream",
     "text": [
      "hello world\n"
     ]
    }
   ],
   "source": [
    "print(\"hello world\")"
   ]
  },
  {
   "cell_type": "code",
   "execution_count": null,
   "id": "e29519ca-35b2-41f1-a4cd-49297dc77d8c",
   "metadata": {},
   "outputs": [],
   "source": [
    "# interactive python notebook interface"
   ]
  },
  {
   "cell_type": "code",
   "execution_count": null,
   "id": "171c294b-f0d9-427b-9943-5244e070b4f8",
   "metadata": {},
   "outputs": [],
   "source": [
    "# ctrl+enter --> Execute a cell (cmd)\n",
    "# shift+enter --> Execute a cell and move to the next cell\n",
    "# ctrl+S --> save the notebook (cmd)"
   ]
  }
 ],
 "metadata": {
  "kernelspec": {
   "display_name": "Python 3 (ipykernel)",
   "language": "python",
   "name": "python3"
  },
  "language_info": {
   "codemirror_mode": {
    "name": "ipython",
    "version": 3
   },
   "file_extension": ".py",
   "mimetype": "text/x-python",
   "name": "python",
   "nbconvert_exporter": "python",
   "pygments_lexer": "ipython3",
   "version": "3.11.3"
  }
 },
 "nbformat": 4,
 "nbformat_minor": 5
}
