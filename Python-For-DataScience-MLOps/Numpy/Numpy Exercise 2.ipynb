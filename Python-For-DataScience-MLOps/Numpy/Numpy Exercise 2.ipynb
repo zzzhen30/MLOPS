{
 "cells": [
  {
   "cell_type": "code",
   "execution_count": 1,
   "metadata": {},
   "outputs": [],
   "source": [
    "import numpy as np"
   ]
  },
  {
   "cell_type": "markdown",
   "metadata": {},
   "source": [
    "1.  Create a 4×4 numpy array of all value equal to: False"
   ]
  },
  {
   "cell_type": "markdown",
   "metadata": {},
   "source": [
    "2. Generate the numpy array with elements between 50 to 70 (use np.arange() function)"
   ]
  },
  {
   "cell_type": "markdown",
   "metadata": {},
   "source": [
    "3. Return only the even numbers from previously created array (Hint: Use Boolean Masking)"
   ]
  },
  {
   "cell_type": "markdown",
   "metadata": {},
   "source": [
    "4. Replace all the odd numbers for array: x = np.arange(70,90) with 99\n",
    "\n",
    "x = [70 71 72 73 74 75 76 77 78 79 80 81 82 83 84 85 86 87 88 89]\n",
    "\n",
    "Output:\n",
    "[70, 99, 72, 99, 74, 99, 76, 99, 78, 99, 80, 99, 82, 99, 84, 99, 86, 99, 88, 99]"
   ]
  },
  {
   "cell_type": "markdown",
   "metadata": {},
   "source": [
    "5. Convert the array x in to the shape of : (2,2,5) where x = np.arange(70,90)"
   ]
  },
  {
   "cell_type": "markdown",
   "metadata": {},
   "source": [
    "6. Create array of shape (5,6) where every value is equal to 1, and data type = float"
   ]
  },
  {
   "cell_type": "markdown",
   "metadata": {},
   "source": [
    "7. Create array of shape (3,2) where every value is equal to Zero, data type is \"complex\""
   ]
  },
  {
   "cell_type": "markdown",
   "metadata": {},
   "source": [
    "8. Create array of random integers filled between the range of 40 and 150, with the shape of (6,5)"
   ]
  },
  {
   "cell_type": "markdown",
   "metadata": {},
   "source": [
    "9. Create array of random integers filled between the range of 50 and 100, with the shape of (4,3), and return the maximum & minimum value from the array"
   ]
  },
  {
   "cell_type": "markdown",
   "metadata": {},
   "source": [
    "10. Create array of random integers filled between the range of 100 and 200, with the shape of (4,3), and return the maximum & minimum value along axis = 1"
   ]
  },
  {
   "cell_type": "markdown",
   "metadata": {},
   "source": [
    "11. Create two arrays of shape : (2,3) using any functions of your functions, and apply `vstack` and `hstack`"
   ]
  },
  {
   "cell_type": "markdown",
   "metadata": {},
   "source": [
    "12. Check if Broadcasting is possible between the follwing pairs of array shapes:\n",
    "    - (4,3,2) & (2,)\n",
    "    - (4,3) & (4,1)\n",
    "    - (4,2,1) & (2,9)\n",
    "    - (7,2,1) & (7,2)\n",
    "    - (8,2,1) & (2,8)\n",
    "    - (5,2,6,2) & (2,1,1)"
   ]
  },
  {
   "cell_type": "code",
   "execution_count": null,
   "metadata": {},
   "outputs": [],
   "source": []
  }
 ],
 "metadata": {
  "kernelspec": {
   "display_name": "Python 3",
   "language": "python",
   "name": "python3"
  },
  "language_info": {
   "codemirror_mode": {
    "name": "ipython",
    "version": 3
   },
   "file_extension": ".py",
   "mimetype": "text/x-python",
   "name": "python",
   "nbconvert_exporter": "python",
   "pygments_lexer": "ipython3",
   "version": "3.8.3"
  }
 },
 "nbformat": 4,
 "nbformat_minor": 2
}
